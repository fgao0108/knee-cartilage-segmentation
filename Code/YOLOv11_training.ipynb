{
 "cells": [
  {
   "cell_type": "code",
   "execution_count": 1,
   "id": "ee1e7d13-439a-4de4-aed0-f2a9367f9b23",
   "metadata": {},
   "outputs": [],
   "source": [
    "from dataclasses import dataclass\n",
    "\n",
    "@dataclass\n",
    "class PreProcessingConfig:\n",
    "    # Folder directories\n",
    "    image_root = \"/data_vault/hexai/OAICartilage/YOLO_DATASET/Image\"\n",
    "    label_root = \"/data_vault/hexai/OAICartilage/YOLO_DATASET/2.5D_Slices_labels\"\n",
    "    out_dir = \"/data_vault/hexai/OAICartilage/YOLO_YOLOv11_Dataset\"\n",
    "    dataset_name = \"2_5D-Slices\"\n",
    "\n",
    "@dataclass\n",
    "class YOLOv11Training:\n",
    "    data_yaml = \"/data_vault/hexai/OAICartilage/YOLO_YOLOv11_Dataset/KneeMRI.yaml\"\n",
    "    yolo_model = \"yolo11n.pt\"  # YOLO model for segmentation\n",
    "    run_name = \"SagittalKneeJoint\"\n",
    "    epochs = 50"
   ]
  },
  {
   "cell_type": "code",
   "execution_count": 2,
   "id": "0eb35f75-5173-4e58-a1f1-4bd8c37a52f9",
   "metadata": {},
   "outputs": [],
   "source": [
    "class KneeLocalizationClasses:\n",
    "    \"\"\"\n",
    "    Map class names for the knee MRI dataset.\n",
    "    \"\"\"\n",
    "    def __init__(self):\n",
    "        self.classes = {\n",
    "            0: \"SagittalKneeJoint\",  # Mapping your class label for the knee joint (adjust as necessary)\n",
    "        }\n",
    "\n",
    "    def map_label(self, view):\n",
    "        \"\"\"\n",
    "        Map the class index to a class label. \n",
    "        This could dynamically change depending on your dataset.\n",
    "        \"\"\"\n",
    "        return self.classes.get(view, \"Unknown\")"
   ]
  },
  {
   "cell_type": "code",
   "execution_count": 3,
   "id": "31be9cb4-f092-414d-97c9-7da42b9f35d4",
   "metadata": {},
   "outputs": [],
   "source": [
    "import os\n",
    "import shutil\n",
    "import yaml\n",
    "from sklearn.model_selection import train_test_split\n",
    "\n",
    "def write_yolo_dataset(dataset, image_root, label_root, out_dir, dataset_type):\n",
    "    \"\"\"\n",
    "    Write dataset to the specified directory for training, validation, or testing.\n",
    "    \"\"\"\n",
    "    dataset_outdir = os.path.join(out_dir, dataset_type)\n",
    "#    dataset_outdir = os.path.join(out_dir, dataset_type)\n",
    "    os.makedirs(os.path.join(dataset_outdir, \"images\"), exist_ok=True)\n",
    "    os.makedirs(os.path.join(dataset_outdir, \"labels\"), exist_ok=True)\n",
    "\n",
    "    for image_path in dataset:\n",
    "        filename = os.path.basename(image_path)\n",
    "        label_filename = filename.replace(\".jpg\", \".txt\")  # Adjust extension if needed\n",
    "        label_path = os.path.join(label_root, label_filename)\n",
    "\n",
    "        # Copy image to the output directory\n",
    "        shutil.copy(image_path, os.path.join(dataset_outdir, \"images\", filename))\n",
    "\n",
    "        # Copy label if it exists\n",
    "        if os.path.exists(label_path):\n",
    "            shutil.copy(label_path, os.path.join(dataset_outdir, \"labels\", label_filename))\n",
    "\n",
    "    return dataset_outdir\n",
    "\n",
    "\n",
    "def build_yolo_dataset(image_root, label_root, out_dir, test_size=0.2):\n",
    "    os.makedirs(out_dir, exist_ok=True)\n",
    "\n",
    "    # List all images\n",
    "    image_files = [os.path.join(subdir, file) for subdir, _, files in os.walk(image_root)\n",
    "                   for file in files if file.endswith(('.jpg', '.jpeg', '.png', '.tif', '.bmp', '.tiff', '.webp'))]\n",
    "\n",
    "    # Split dataset into train, valid, test\n",
    "    train_files, test_files = train_test_split(image_files, test_size=test_size, random_state=42)\n",
    "    valid_files, test_files = train_test_split(test_files, test_size=test_size, random_state=42)\n",
    "\n",
    "    # Write datasets to their respective directories\n",
    "    train_path = write_yolo_dataset(train_files, image_root, label_root, out_dir, dataset_type=\"train\")\n",
    "    valid_path = write_yolo_dataset(valid_files, image_root, label_root, out_dir, dataset_type=\"valid\")\n",
    "    test_path = write_yolo_dataset(test_files, image_root, label_root, out_dir, dataset_type=\"test\")\n",
    "\n",
    "\n",
    "    # Write YOLO YAML file\n",
    "    write_yolo_yaml_file(train_path, valid_path, test_path, out_dir)\n"
   ]
  },
  {
   "cell_type": "code",
   "execution_count": 4,
   "id": "38593696-2558-4992-a3e4-951f7b3c2f88",
   "metadata": {},
   "outputs": [],
   "source": [
    "def write_yolo_yaml_file(train_path, valid_path, test_path, out_dir):\n",
    "    class_labels = KneeLocalizationClasses()\n",
    "    yaml_info = {\n",
    "        \"train\": train_path,\n",
    "        \"val\": valid_path,\n",
    "        \"test\": test_path,\n",
    "        \"nc\": 1,  # Number of classes (1 in your case)\n",
    "        \"names\": [class_labels.map_label(0)]  # Using 0 as the class index for \"SagittalKneeJoint\"\n",
    "    }\n",
    "\n",
    "    with open(f\"{out_dir}/KneeMRI.yaml\", 'w') as f:\n",
    "        yaml.dump(yaml_info, f)\n"
   ]
  },
  {
   "cell_type": "code",
   "execution_count": 5,
   "id": "f4d58198-65e4-4c4d-8833-4a44dd25bea2",
   "metadata": {},
   "outputs": [],
   "source": [
    "from ultralytics import YOLO\n",
    "\n",
    "def get_yolo_model(yolo_model_checkpoint):\n",
    "    \"\"\"\n",
    "    YOLOv11 Checkpoints:\n",
    "    - yolov11n.pt (Nano)\n",
    "    - yolov11s.pt (Small)\n",
    "    - yolov11m.pt (Medium)\n",
    "    - yolov11l.pt (Large)\n",
    "    - yolov11x.pt (Extra Large)\n",
    "    \"\"\"\n",
    "    return YOLO(yolo_model_checkpoint)\n"
   ]
  },
  {
   "cell_type": "code",
   "execution_count": 6,
   "id": "7fd38eb6-dc90-4c78-9d73-ebb23ca43b9a",
   "metadata": {},
   "outputs": [],
   "source": [
    "import torch\n",
    "import os\n",
    "\n",
    "def train_yolo_model(data_yaml, yolo_checkpoint_name, epochs, run_name):\n",
    "    model = get_yolo_model(yolo_checkpoint_name)\n",
    "\n",
    "    if torch.cuda.is_available():\n",
    "        model = model.cuda()\n",
    "\n",
    "    # Check if the YAML file exists\n",
    "    if os.path.exists(data_yaml):\n",
    "        print(\"data.yaml found. Proceeding with training.\")\n",
    "        model.train(data=data_yaml, epochs=epochs, name=run_name)\n",
    "    else:\n",
    "        print(\"data.yaml not found. Please check the path and ensure the file exists.\")\n"
   ]
  },
  {
   "cell_type": "code",
   "execution_count": 7,
   "id": "a4996040-c1d0-4704-bdec-81725057595e",
   "metadata": {},
   "outputs": [],
   "source": [
    "def main(mode):\n",
    "    print(\"Knee MRI Segmentation Entry Point!\")\n",
    "\n",
    "    if mode == \"preprocess\":\n",
    "        config = PreProcessingConfig()\n",
    "        build_yolo_dataset(config.image_root, config.label_root, config.out_dir)\n",
    "        print(\"Preprocessing completed!\")\n",
    "    \n",
    "    elif mode == \"yolo\":\n",
    "        config = YOLOv11Training()\n",
    "        train_yolo_model(config.data_yaml, config.yolo_model, config.epochs, config.run_name)\n",
    "        print(\"Training completed!\")\n"
   ]
  },
  {
   "cell_type": "code",
   "execution_count": 8,
   "id": "1e4d4b21-8912-4f8e-b754-789880deddde",
   "metadata": {},
   "outputs": [
    {
     "name": "stdout",
     "output_type": "stream",
     "text": [
      "Knee MRI Segmentation Entry Point!\n",
      "Preprocessing completed!\n"
     ]
    }
   ],
   "source": [
    "if __name__ == \"__main__\":\n",
    "    main(\"preprocess\")  # Run preprocessing"
   ]
  },
  {
   "cell_type": "code",
   "execution_count": 9,
   "id": "f957a6d4-aafd-43e4-abab-013afaab4c51",
   "metadata": {},
   "outputs": [
    {
     "name": "stdout",
     "output_type": "stream",
     "text": [
      "Knee MRI Segmentation Entry Point!\n",
      "data.yaml found. Proceeding with training.\n",
      "New https://pypi.org/project/ultralytics/8.3.98 available 😃 Update with 'pip install -U ultralytics'\n",
      "\u001b[34m\u001b[1mengine/trainer: \u001b[0mtask=detect, mode=train, model=yolo11n.pt, data=/data_vault/hexai/OAICartilage/YOLO_YOLOv11_Dataset/KneeMRI.yaml, epochs=50, time=None, patience=100, batch=16, imgsz=640, save=True, save_period=-1, cache=False, device=cuda:0, workers=8, project=None, name=SagittalKneeJoint, exist_ok=False, pretrained=True, optimizer=auto, verbose=True, seed=0, deterministic=True, single_cls=False, rect=False, cos_lr=False, close_mosaic=10, resume=False, amp=True, fraction=1.0, profile=False, freeze=None, multi_scale=False, overlap_mask=True, mask_ratio=4, dropout=0.0, val=True, split=val, save_json=False, save_hybrid=False, conf=None, iou=0.7, max_det=300, half=False, dnn=False, plots=True, source=None, vid_stride=1, stream_buffer=False, visualize=False, augment=False, agnostic_nms=False, classes=None, retina_masks=False, embed=None, show=False, save_frames=False, save_txt=False, save_conf=False, save_crop=False, show_labels=True, show_conf=True, show_boxes=True, line_width=None, format=torchscript, keras=False, optimize=False, int8=False, dynamic=False, simplify=True, opset=None, workspace=None, nms=False, lr0=0.01, lrf=0.01, momentum=0.937, weight_decay=0.0005, warmup_epochs=3.0, warmup_momentum=0.8, warmup_bias_lr=0.1, box=7.5, cls=0.5, dfl=1.5, pose=12.0, kobj=1.0, nbs=64, hsv_h=0.015, hsv_s=0.7, hsv_v=0.4, degrees=0.0, translate=0.1, scale=0.5, shear=0.0, perspective=0.0, flipud=0.0, fliplr=0.5, bgr=0.0, mosaic=1.0, mixup=0.0, copy_paste=0.0, copy_paste_mode=flip, auto_augment=randaugment, erasing=0.4, crop_fraction=1.0, cfg=None, tracker=botsort.yaml, save_dir=runs/detect/SagittalKneeJoint\n",
      "Overriding model.yaml nc=80 with nc=1\n",
      "\n",
      "                   from  n    params  module                                       arguments                     \n",
      "  0                  -1  1       464  ultralytics.nn.modules.conv.Conv             [3, 16, 3, 2]                 \n",
      "  1                  -1  1      4672  ultralytics.nn.modules.conv.Conv             [16, 32, 3, 2]                \n",
      "  2                  -1  1      6640  ultralytics.nn.modules.block.C3k2            [32, 64, 1, False, 0.25]      \n",
      "  3                  -1  1     36992  ultralytics.nn.modules.conv.Conv             [64, 64, 3, 2]                \n",
      "  4                  -1  1     26080  ultralytics.nn.modules.block.C3k2            [64, 128, 1, False, 0.25]     \n",
      "  5                  -1  1    147712  ultralytics.nn.modules.conv.Conv             [128, 128, 3, 2]              \n",
      "  6                  -1  1     87040  ultralytics.nn.modules.block.C3k2            [128, 128, 1, True]           \n",
      "  7                  -1  1    295424  ultralytics.nn.modules.conv.Conv             [128, 256, 3, 2]              \n",
      "  8                  -1  1    346112  ultralytics.nn.modules.block.C3k2            [256, 256, 1, True]           \n",
      "  9                  -1  1    164608  ultralytics.nn.modules.block.SPPF            [256, 256, 5]                 \n",
      " 10                  -1  1    249728  ultralytics.nn.modules.block.C2PSA           [256, 256, 1]                 \n",
      " 11                  -1  1         0  torch.nn.modules.upsampling.Upsample         [None, 2, 'nearest']          \n",
      " 12             [-1, 6]  1         0  ultralytics.nn.modules.conv.Concat           [1]                           \n",
      " 13                  -1  1    111296  ultralytics.nn.modules.block.C3k2            [384, 128, 1, False]          \n",
      " 14                  -1  1         0  torch.nn.modules.upsampling.Upsample         [None, 2, 'nearest']          \n",
      " 15             [-1, 4]  1         0  ultralytics.nn.modules.conv.Concat           [1]                           \n",
      " 16                  -1  1     32096  ultralytics.nn.modules.block.C3k2            [256, 64, 1, False]           \n",
      " 17                  -1  1     36992  ultralytics.nn.modules.conv.Conv             [64, 64, 3, 2]                \n",
      " 18            [-1, 13]  1         0  ultralytics.nn.modules.conv.Concat           [1]                           \n",
      " 19                  -1  1     86720  ultralytics.nn.modules.block.C3k2            [192, 128, 1, False]          \n",
      " 20                  -1  1    147712  ultralytics.nn.modules.conv.Conv             [128, 128, 3, 2]              \n",
      " 21            [-1, 10]  1         0  ultralytics.nn.modules.conv.Concat           [1]                           \n",
      " 22                  -1  1    378880  ultralytics.nn.modules.block.C3k2            [384, 256, 1, True]           \n",
      " 23        [16, 19, 22]  1    430867  ultralytics.nn.modules.head.Detect           [1, [64, 128, 256]]           \n",
      "YOLO11n summary: 181 layers, 2,590,035 parameters, 2,590,019 gradients, 6.4 GFLOPs\n",
      "\n",
      "Transferred 448/499 items from pretrained weights\n",
      "Freezing layer 'model.23.dfl.conv.weight'\n",
      "\u001b[34m\u001b[1mAMP: \u001b[0mrunning Automatic Mixed Precision (AMP) checks...\n",
      "\u001b[34m\u001b[1mAMP: \u001b[0mchecks passed ✅\n"
     ]
    },
    {
     "name": "stderr",
     "output_type": "stream",
     "text": [
      "\u001b[34m\u001b[1mtrain: \u001b[0mScanning /data_vault/hexai/OAICartilage/YOLO_YOLOv11_Dataset/train\u001b[0m"
     ]
    },
    {
     "name": "stdout",
     "output_type": "stream",
     "text": [
      "\u001b[34m\u001b[1mtrain: \u001b[0mWARNING ⚠️ /data_vault/hexai/OAICartilage/YOLO_YOLOv11_Dataset/train/images/9207905_20051111_10782812_slice_053.jpg: 1 duplicate labels removed\n",
      "\u001b[34m\u001b[1mtrain: \u001b[0mWARNING ⚠️ /data_vault/hexai/OAICartilage/YOLO_YOLOv11_Dataset/train/images/9207905_20051111_10782812_slice_076.jpg: 1 duplicate labels removed\n",
      "\u001b[34m\u001b[1mtrain: \u001b[0mWARNING ⚠️ /data_vault/hexai/OAICartilage/YOLO_YOLOv11_Dataset/train/images/9680344_20040910_10698606_slice_060.jpg: 1 duplicate labels removed\n"
     ]
    },
    {
     "name": "stderr",
     "output_type": "stream",
     "text": [
      "\n"
     ]
    },
    {
     "name": "stdout",
     "output_type": "stream",
     "text": [
      "\u001b[34m\u001b[1mtrain: \u001b[0mNew cache created: /data_vault/hexai/OAICartilage/YOLO_YOLOv11_Dataset/train/labels.cache\n"
     ]
    },
    {
     "name": "stderr",
     "output_type": "stream",
     "text": [
      "\u001b[34m\u001b[1mval: \u001b[0mScanning /data_vault/hexai/OAICartilage/YOLO_YOLOv11_Dataset/valid/l\u001b[0m"
     ]
    },
    {
     "name": "stdout",
     "output_type": "stream",
     "text": [
      "\u001b[34m\u001b[1mval: \u001b[0mWARNING ⚠️ /data_vault/hexai/OAICartilage/YOLO_YOLOv11_Dataset/valid/images/9207905_20051111_10782812_slice_140.jpg: 1 duplicate labels removed\n"
     ]
    },
    {
     "name": "stderr",
     "output_type": "stream",
     "text": [
      "\n"
     ]
    },
    {
     "name": "stdout",
     "output_type": "stream",
     "text": [
      "\u001b[34m\u001b[1mval: \u001b[0mNew cache created: /data_vault/hexai/OAICartilage/YOLO_YOLOv11_Dataset/valid/labels.cache\n",
      "Plotting labels to runs/detect/SagittalKneeJoint/labels.jpg... \n",
      "\u001b[34m\u001b[1moptimizer:\u001b[0m 'optimizer=auto' found, ignoring 'lr0=0.01' and 'momentum=0.937' and determining best 'optimizer', 'lr0' and 'momentum' automatically... \n",
      "\u001b[34m\u001b[1moptimizer:\u001b[0m AdamW(lr=0.002, momentum=0.9) with parameter groups 81 weight(decay=0.0), 88 weight(decay=0.0005), 87 bias(decay=0.0)\n",
      "Image sizes 640 train, 640 val\n",
      "Using 8 dataloader workers\n",
      "Logging results to \u001b[1mruns/detect/SagittalKneeJoint\u001b[0m\n",
      "Starting training for 50 epochs...\n",
      "\n",
      "      Epoch    GPU_mem   box_loss   cls_loss   dfl_loss  Instances       Size\n"
     ]
    },
    {
     "name": "stderr",
     "output_type": "stream",
     "text": [
      "       1/50      2.28G       1.62      2.436      1.839         24       \n",
      "                 Class     Images  Instances      Box(P          R      m"
     ]
    },
    {
     "name": "stdout",
     "output_type": "stream",
     "text": [
      "                   all        640        440      0.938      0.866      0.912      0.538\n"
     ]
    },
    {
     "name": "stderr",
     "output_type": "stream",
     "text": [
      "\n"
     ]
    },
    {
     "name": "stdout",
     "output_type": "stream",
     "text": [
      "\n",
      "      Epoch    GPU_mem   box_loss   cls_loss   dfl_loss  Instances       Size\n"
     ]
    },
    {
     "name": "stderr",
     "output_type": "stream",
     "text": [
      "       2/50      2.22G      1.529      1.623      1.692         31       \n",
      "                 Class     Images  Instances      Box(P          R      m"
     ]
    },
    {
     "name": "stdout",
     "output_type": "stream",
     "text": [
      "                   all        640        440      0.935      0.861      0.895      0.503\n"
     ]
    },
    {
     "name": "stderr",
     "output_type": "stream",
     "text": [
      "\n"
     ]
    },
    {
     "name": "stdout",
     "output_type": "stream",
     "text": [
      "\n",
      "      Epoch    GPU_mem   box_loss   cls_loss   dfl_loss  Instances       Size\n"
     ]
    },
    {
     "name": "stderr",
     "output_type": "stream",
     "text": [
      "       3/50      2.21G      1.486      1.307      1.623         16       \n",
      "                 Class     Images  Instances      Box(P          R      m"
     ]
    },
    {
     "name": "stdout",
     "output_type": "stream",
     "text": [
      "                   all        640        440      0.962      0.915      0.968      0.552\n"
     ]
    },
    {
     "name": "stderr",
     "output_type": "stream",
     "text": [
      "\n"
     ]
    },
    {
     "name": "stdout",
     "output_type": "stream",
     "text": [
      "\n",
      "      Epoch    GPU_mem   box_loss   cls_loss   dfl_loss  Instances       Size\n"
     ]
    },
    {
     "name": "stderr",
     "output_type": "stream",
     "text": [
      "       4/50      2.21G      1.466      1.203        1.6         22       \n",
      "                 Class     Images  Instances      Box(P          R      m"
     ]
    },
    {
     "name": "stdout",
     "output_type": "stream",
     "text": [
      "                   all        640        440      0.968      0.887      0.926      0.571\n"
     ]
    },
    {
     "name": "stderr",
     "output_type": "stream",
     "text": [
      "\n"
     ]
    },
    {
     "name": "stdout",
     "output_type": "stream",
     "text": [
      "\n",
      "      Epoch    GPU_mem   box_loss   cls_loss   dfl_loss  Instances       Size\n"
     ]
    },
    {
     "name": "stderr",
     "output_type": "stream",
     "text": [
      "       5/50      2.21G      1.395      1.098       1.54         20       \n",
      "                 Class     Images  Instances      Box(P          R      m"
     ]
    },
    {
     "name": "stdout",
     "output_type": "stream",
     "text": [
      "                   all        640        440      0.976      0.895      0.976      0.629\n"
     ]
    },
    {
     "name": "stderr",
     "output_type": "stream",
     "text": [
      "\n"
     ]
    },
    {
     "name": "stdout",
     "output_type": "stream",
     "text": [
      "\n",
      "      Epoch    GPU_mem   box_loss   cls_loss   dfl_loss  Instances       Size\n"
     ]
    },
    {
     "name": "stderr",
     "output_type": "stream",
     "text": [
      "       6/50      2.21G      1.339      1.018      1.502         30       \n",
      "                 Class     Images  Instances      Box(P          R      m"
     ]
    },
    {
     "name": "stdout",
     "output_type": "stream",
     "text": [
      "                   all        640        440      0.972        0.9      0.956      0.636\n"
     ]
    },
    {
     "name": "stderr",
     "output_type": "stream",
     "text": [
      "\n"
     ]
    },
    {
     "name": "stdout",
     "output_type": "stream",
     "text": [
      "\n",
      "      Epoch    GPU_mem   box_loss   cls_loss   dfl_loss  Instances       Size\n"
     ]
    },
    {
     "name": "stderr",
     "output_type": "stream",
     "text": [
      "       7/50      2.21G      1.308      1.006      1.486         30       \n",
      "                 Class     Images  Instances      Box(P          R      m"
     ]
    },
    {
     "name": "stdout",
     "output_type": "stream",
     "text": [
      "                   all        640        440      0.964        0.9      0.972      0.677\n"
     ]
    },
    {
     "name": "stderr",
     "output_type": "stream",
     "text": [
      "\n"
     ]
    },
    {
     "name": "stdout",
     "output_type": "stream",
     "text": [
      "\n",
      "      Epoch    GPU_mem   box_loss   cls_loss   dfl_loss  Instances       Size\n"
     ]
    },
    {
     "name": "stderr",
     "output_type": "stream",
     "text": [
      "       8/50      2.21G      1.278      0.952      1.465         22       \n",
      "                 Class     Images  Instances      Box(P          R      m"
     ]
    },
    {
     "name": "stdout",
     "output_type": "stream",
     "text": [
      "                   all        640        440      0.978      0.905      0.982      0.713\n"
     ]
    },
    {
     "name": "stderr",
     "output_type": "stream",
     "text": [
      "\n"
     ]
    },
    {
     "name": "stdout",
     "output_type": "stream",
     "text": [
      "\n",
      "      Epoch    GPU_mem   box_loss   cls_loss   dfl_loss  Instances       Size\n"
     ]
    },
    {
     "name": "stderr",
     "output_type": "stream",
     "text": [
      "       9/50      2.21G      1.254      0.924      1.449         21       \n",
      "                 Class     Images  Instances      Box(P          R      m"
     ]
    },
    {
     "name": "stdout",
     "output_type": "stream",
     "text": [
      "                   all        640        440       0.98      0.907      0.965      0.711\n"
     ]
    },
    {
     "name": "stderr",
     "output_type": "stream",
     "text": [
      "\n"
     ]
    },
    {
     "name": "stdout",
     "output_type": "stream",
     "text": [
      "\n",
      "      Epoch    GPU_mem   box_loss   cls_loss   dfl_loss  Instances       Size\n"
     ]
    },
    {
     "name": "stderr",
     "output_type": "stream",
     "text": [
      "      10/50      2.21G      1.231     0.8926      1.429         22       \n",
      "                 Class     Images  Instances      Box(P          R      m"
     ]
    },
    {
     "name": "stdout",
     "output_type": "stream",
     "text": [
      "                   all        640        440      0.985      0.897       0.98       0.73\n"
     ]
    },
    {
     "name": "stderr",
     "output_type": "stream",
     "text": [
      "\n"
     ]
    },
    {
     "name": "stdout",
     "output_type": "stream",
     "text": [
      "\n",
      "      Epoch    GPU_mem   box_loss   cls_loss   dfl_loss  Instances       Size\n"
     ]
    },
    {
     "name": "stderr",
     "output_type": "stream",
     "text": [
      "      11/50      2.21G      1.215     0.8815      1.405         25       \n",
      "                 Class     Images  Instances      Box(P          R      m"
     ]
    },
    {
     "name": "stdout",
     "output_type": "stream",
     "text": [
      "                   all        640        440      0.975      0.902      0.935      0.701\n"
     ]
    },
    {
     "name": "stderr",
     "output_type": "stream",
     "text": [
      "\n"
     ]
    },
    {
     "name": "stdout",
     "output_type": "stream",
     "text": [
      "\n",
      "      Epoch    GPU_mem   box_loss   cls_loss   dfl_loss  Instances       Size\n"
     ]
    },
    {
     "name": "stderr",
     "output_type": "stream",
     "text": [
      "      12/50      2.21G      1.213     0.8412      1.403         23       \n",
      "                 Class     Images  Instances      Box(P          R      m"
     ]
    },
    {
     "name": "stdout",
     "output_type": "stream",
     "text": [
      "                   all        640        440      0.973      0.911      0.983      0.741\n"
     ]
    },
    {
     "name": "stderr",
     "output_type": "stream",
     "text": [
      "\n"
     ]
    },
    {
     "name": "stdout",
     "output_type": "stream",
     "text": [
      "\n",
      "      Epoch    GPU_mem   box_loss   cls_loss   dfl_loss  Instances       Size\n"
     ]
    },
    {
     "name": "stderr",
     "output_type": "stream",
     "text": [
      "      13/50      2.21G       1.18      0.833      1.389         28       \n",
      "                 Class     Images  Instances      Box(P          R      m"
     ]
    },
    {
     "name": "stdout",
     "output_type": "stream",
     "text": [
      "                   all        640        440      0.985      0.898      0.981      0.716\n"
     ]
    },
    {
     "name": "stderr",
     "output_type": "stream",
     "text": [
      "\n"
     ]
    },
    {
     "name": "stdout",
     "output_type": "stream",
     "text": [
      "\n",
      "      Epoch    GPU_mem   box_loss   cls_loss   dfl_loss  Instances       Size\n"
     ]
    },
    {
     "name": "stderr",
     "output_type": "stream",
     "text": [
      "      14/50      2.21G      1.172     0.8262      1.385         23       \n",
      "                 Class     Images  Instances      Box(P          R      m"
     ]
    },
    {
     "name": "stdout",
     "output_type": "stream",
     "text": [
      "                   all        640        440      0.978       0.91      0.981      0.759\n"
     ]
    },
    {
     "name": "stderr",
     "output_type": "stream",
     "text": [
      "\n"
     ]
    },
    {
     "name": "stdout",
     "output_type": "stream",
     "text": [
      "\n",
      "      Epoch    GPU_mem   box_loss   cls_loss   dfl_loss  Instances       Size\n"
     ]
    },
    {
     "name": "stderr",
     "output_type": "stream",
     "text": [
      "      15/50      2.21G      1.139     0.7924      1.356         19       \n",
      "                 Class     Images  Instances      Box(P          R      m"
     ]
    },
    {
     "name": "stdout",
     "output_type": "stream",
     "text": [
      "                   all        640        440      0.975      0.903      0.985      0.754\n"
     ]
    },
    {
     "name": "stderr",
     "output_type": "stream",
     "text": [
      "\n"
     ]
    },
    {
     "name": "stdout",
     "output_type": "stream",
     "text": [
      "\n",
      "      Epoch    GPU_mem   box_loss   cls_loss   dfl_loss  Instances       Size\n"
     ]
    },
    {
     "name": "stderr",
     "output_type": "stream",
     "text": [
      "      16/50      2.21G      1.137     0.7973      1.365         32       \n",
      "                 Class     Images  Instances      Box(P          R      m"
     ]
    },
    {
     "name": "stdout",
     "output_type": "stream",
     "text": [
      "                   all        640        440      0.964       0.91      0.982      0.764\n"
     ]
    },
    {
     "name": "stderr",
     "output_type": "stream",
     "text": [
      "\n"
     ]
    },
    {
     "name": "stdout",
     "output_type": "stream",
     "text": [
      "\n",
      "      Epoch    GPU_mem   box_loss   cls_loss   dfl_loss  Instances       Size\n"
     ]
    },
    {
     "name": "stderr",
     "output_type": "stream",
     "text": [
      "      17/50      2.21G      1.106     0.7546      1.341         22       \n",
      "                 Class     Images  Instances      Box(P          R      m"
     ]
    },
    {
     "name": "stdout",
     "output_type": "stream",
     "text": [
      "                   all        640        440      0.968      0.909      0.985      0.759\n"
     ]
    },
    {
     "name": "stderr",
     "output_type": "stream",
     "text": [
      "\n"
     ]
    },
    {
     "name": "stdout",
     "output_type": "stream",
     "text": [
      "\n",
      "      Epoch    GPU_mem   box_loss   cls_loss   dfl_loss  Instances       Size\n"
     ]
    },
    {
     "name": "stderr",
     "output_type": "stream",
     "text": [
      "      18/50      2.21G      1.103     0.7584      1.334         25       \n",
      "                 Class     Images  Instances      Box(P          R      m"
     ]
    },
    {
     "name": "stdout",
     "output_type": "stream",
     "text": [
      "                   all        640        440       0.98      0.907      0.983      0.765\n"
     ]
    },
    {
     "name": "stderr",
     "output_type": "stream",
     "text": [
      "\n"
     ]
    },
    {
     "name": "stdout",
     "output_type": "stream",
     "text": [
      "\n",
      "      Epoch    GPU_mem   box_loss   cls_loss   dfl_loss  Instances       Size\n"
     ]
    },
    {
     "name": "stderr",
     "output_type": "stream",
     "text": [
      "      19/50      2.21G      1.074     0.7517      1.312         20       \n",
      "                 Class     Images  Instances      Box(P          R      m"
     ]
    },
    {
     "name": "stdout",
     "output_type": "stream",
     "text": [
      "                   all        640        440      0.957      0.932      0.986      0.756\n"
     ]
    },
    {
     "name": "stderr",
     "output_type": "stream",
     "text": [
      "\n"
     ]
    },
    {
     "name": "stdout",
     "output_type": "stream",
     "text": [
      "\n",
      "      Epoch    GPU_mem   box_loss   cls_loss   dfl_loss  Instances       Size\n"
     ]
    },
    {
     "name": "stderr",
     "output_type": "stream",
     "text": [
      "      20/50      2.21G      1.061     0.7331      1.313         34       \n",
      "                 Class     Images  Instances      Box(P          R      m"
     ]
    },
    {
     "name": "stdout",
     "output_type": "stream",
     "text": [
      "                   all        640        440      0.952      0.939      0.987      0.779\n"
     ]
    },
    {
     "name": "stderr",
     "output_type": "stream",
     "text": [
      "\n"
     ]
    },
    {
     "name": "stdout",
     "output_type": "stream",
     "text": [
      "\n",
      "      Epoch    GPU_mem   box_loss   cls_loss   dfl_loss  Instances       Size\n"
     ]
    },
    {
     "name": "stderr",
     "output_type": "stream",
     "text": [
      "      21/50      2.21G      1.067      0.731      1.312         29       \n",
      "                 Class     Images  Instances      Box(P          R      m"
     ]
    },
    {
     "name": "stdout",
     "output_type": "stream",
     "text": [
      "                   all        640        440      0.985      0.907      0.987      0.792\n"
     ]
    },
    {
     "name": "stderr",
     "output_type": "stream",
     "text": [
      "\n"
     ]
    },
    {
     "name": "stdout",
     "output_type": "stream",
     "text": [
      "\n",
      "      Epoch    GPU_mem   box_loss   cls_loss   dfl_loss  Instances       Size\n"
     ]
    },
    {
     "name": "stderr",
     "output_type": "stream",
     "text": [
      "      22/50      2.21G      1.032     0.7103      1.291         22       \n",
      "                 Class     Images  Instances      Box(P          R      m"
     ]
    },
    {
     "name": "stdout",
     "output_type": "stream",
     "text": [
      "                   all        640        440      0.976      0.922      0.986      0.795\n"
     ]
    },
    {
     "name": "stderr",
     "output_type": "stream",
     "text": [
      "\n"
     ]
    },
    {
     "name": "stdout",
     "output_type": "stream",
     "text": [
      "\n",
      "      Epoch    GPU_mem   box_loss   cls_loss   dfl_loss  Instances       Size\n"
     ]
    },
    {
     "name": "stderr",
     "output_type": "stream",
     "text": [
      "      23/50      2.21G      1.036     0.7186      1.292         23       \n",
      "                 Class     Images  Instances      Box(P          R      m"
     ]
    },
    {
     "name": "stdout",
     "output_type": "stream",
     "text": [
      "                   all        640        440      0.956      0.936      0.987      0.771\n"
     ]
    },
    {
     "name": "stderr",
     "output_type": "stream",
     "text": [
      "\n"
     ]
    },
    {
     "name": "stdout",
     "output_type": "stream",
     "text": [
      "\n",
      "      Epoch    GPU_mem   box_loss   cls_loss   dfl_loss  Instances       Size\n"
     ]
    },
    {
     "name": "stderr",
     "output_type": "stream",
     "text": [
      "      24/50      2.21G      1.022     0.7114      1.288         27       \n",
      "                 Class     Images  Instances      Box(P          R      m"
     ]
    },
    {
     "name": "stdout",
     "output_type": "stream",
     "text": [
      "                   all        640        440      0.967      0.939      0.989      0.803\n"
     ]
    },
    {
     "name": "stderr",
     "output_type": "stream",
     "text": [
      "\n"
     ]
    },
    {
     "name": "stdout",
     "output_type": "stream",
     "text": [
      "\n",
      "      Epoch    GPU_mem   box_loss   cls_loss   dfl_loss  Instances       Size\n"
     ]
    },
    {
     "name": "stderr",
     "output_type": "stream",
     "text": [
      "      25/50      2.21G      1.009     0.6937      1.287         15       \n",
      "                 Class     Images  Instances      Box(P          R      m\n"
     ]
    },
    {
     "name": "stdout",
     "output_type": "stream",
     "text": [
      "                   all        640        440      0.927      0.961      0.988        0.8\n",
      "\n",
      "      Epoch    GPU_mem   box_loss   cls_loss   dfl_loss  Instances       Size\n"
     ]
    },
    {
     "name": "stderr",
     "output_type": "stream",
     "text": [
      "      26/50      2.21G     0.9865     0.6848      1.257         30       \n",
      "                 Class     Images  Instances      Box(P          R      m"
     ]
    },
    {
     "name": "stdout",
     "output_type": "stream",
     "text": [
      "                   all        640        440      0.945      0.952      0.988      0.796\n"
     ]
    },
    {
     "name": "stderr",
     "output_type": "stream",
     "text": [
      "\n"
     ]
    },
    {
     "name": "stdout",
     "output_type": "stream",
     "text": [
      "\n",
      "      Epoch    GPU_mem   box_loss   cls_loss   dfl_loss  Instances       Size\n"
     ]
    },
    {
     "name": "stderr",
     "output_type": "stream",
     "text": [
      "      27/50      2.21G     0.9819     0.6618      1.262         22       \n",
      "                 Class     Images  Instances      Box(P          R      m"
     ]
    },
    {
     "name": "stdout",
     "output_type": "stream",
     "text": [
      "                   all        640        440      0.947       0.97       0.99      0.822\n"
     ]
    },
    {
     "name": "stderr",
     "output_type": "stream",
     "text": [
      "\n"
     ]
    },
    {
     "name": "stdout",
     "output_type": "stream",
     "text": [
      "\n",
      "      Epoch    GPU_mem   box_loss   cls_loss   dfl_loss  Instances       Size\n"
     ]
    },
    {
     "name": "stderr",
     "output_type": "stream",
     "text": [
      "      28/50      2.21G     0.9448     0.6573      1.242         20       \n",
      "                 Class     Images  Instances      Box(P          R      m"
     ]
    },
    {
     "name": "stdout",
     "output_type": "stream",
     "text": [
      "                   all        640        440      0.957      0.961       0.99      0.817\n"
     ]
    },
    {
     "name": "stderr",
     "output_type": "stream",
     "text": [
      "\n"
     ]
    },
    {
     "name": "stdout",
     "output_type": "stream",
     "text": [
      "\n",
      "      Epoch    GPU_mem   box_loss   cls_loss   dfl_loss  Instances       Size\n"
     ]
    },
    {
     "name": "stderr",
     "output_type": "stream",
     "text": [
      "      29/50      2.21G     0.9511     0.6596      1.249         25       \n",
      "                 Class     Images  Instances      Box(P          R      m"
     ]
    },
    {
     "name": "stdout",
     "output_type": "stream",
     "text": [
      "                   all        640        440      0.949      0.974      0.991       0.82\n"
     ]
    },
    {
     "name": "stderr",
     "output_type": "stream",
     "text": [
      "\n"
     ]
    },
    {
     "name": "stdout",
     "output_type": "stream",
     "text": [
      "\n",
      "      Epoch    GPU_mem   box_loss   cls_loss   dfl_loss  Instances       Size\n"
     ]
    },
    {
     "name": "stderr",
     "output_type": "stream",
     "text": [
      "      30/50      2.21G     0.9522     0.6642      1.247         25       \n",
      "                 Class     Images  Instances      Box(P          R      m"
     ]
    },
    {
     "name": "stdout",
     "output_type": "stream",
     "text": [
      "                   all        640        440      0.977      0.957      0.992      0.837\n"
     ]
    },
    {
     "name": "stderr",
     "output_type": "stream",
     "text": [
      "\n"
     ]
    },
    {
     "name": "stdout",
     "output_type": "stream",
     "text": [
      "\n",
      "      Epoch    GPU_mem   box_loss   cls_loss   dfl_loss  Instances       Size\n"
     ]
    },
    {
     "name": "stderr",
     "output_type": "stream",
     "text": [
      "      31/50      2.21G     0.9306     0.6543      1.232         27       \n",
      "                 Class     Images  Instances      Box(P          R      m"
     ]
    },
    {
     "name": "stdout",
     "output_type": "stream",
     "text": [
      "                   all        640        440      0.974       0.97      0.993      0.853\n"
     ]
    },
    {
     "name": "stderr",
     "output_type": "stream",
     "text": [
      "\n"
     ]
    },
    {
     "name": "stdout",
     "output_type": "stream",
     "text": [
      "\n",
      "      Epoch    GPU_mem   box_loss   cls_loss   dfl_loss  Instances       Size\n"
     ]
    },
    {
     "name": "stderr",
     "output_type": "stream",
     "text": [
      "      32/50      2.21G     0.9231     0.6342      1.226         21       \n",
      "                 Class     Images  Instances      Box(P          R      m"
     ]
    },
    {
     "name": "stdout",
     "output_type": "stream",
     "text": [
      "                   all        640        440      0.962      0.975      0.992       0.84\n"
     ]
    },
    {
     "name": "stderr",
     "output_type": "stream",
     "text": [
      "\n"
     ]
    },
    {
     "name": "stdout",
     "output_type": "stream",
     "text": [
      "\n",
      "      Epoch    GPU_mem   box_loss   cls_loss   dfl_loss  Instances       Size\n"
     ]
    },
    {
     "name": "stderr",
     "output_type": "stream",
     "text": [
      "      33/50      2.21G     0.9123     0.6268      1.231         25       \n",
      "                 Class     Images  Instances      Box(P          R      m"
     ]
    },
    {
     "name": "stdout",
     "output_type": "stream",
     "text": [
      "                   all        640        440      0.959      0.968      0.991      0.839\n"
     ]
    },
    {
     "name": "stderr",
     "output_type": "stream",
     "text": [
      "\n"
     ]
    },
    {
     "name": "stdout",
     "output_type": "stream",
     "text": [
      "\n",
      "      Epoch    GPU_mem   box_loss   cls_loss   dfl_loss  Instances       Size\n"
     ]
    },
    {
     "name": "stderr",
     "output_type": "stream",
     "text": [
      "      34/50      2.21G     0.8937     0.6192       1.22         18       \n",
      "                 Class     Images  Instances      Box(P          R      m"
     ]
    },
    {
     "name": "stdout",
     "output_type": "stream",
     "text": [
      "                   all        640        440      0.965      0.959      0.991      0.855\n"
     ]
    },
    {
     "name": "stderr",
     "output_type": "stream",
     "text": [
      "\n"
     ]
    },
    {
     "name": "stdout",
     "output_type": "stream",
     "text": [
      "\n",
      "      Epoch    GPU_mem   box_loss   cls_loss   dfl_loss  Instances       Size\n"
     ]
    },
    {
     "name": "stderr",
     "output_type": "stream",
     "text": [
      "      35/50      2.21G     0.8793     0.6016      1.205         29       \n",
      "                 Class     Images  Instances      Box(P          R      m"
     ]
    },
    {
     "name": "stdout",
     "output_type": "stream",
     "text": [
      "                   all        640        440      0.959      0.969      0.991      0.853\n"
     ]
    },
    {
     "name": "stderr",
     "output_type": "stream",
     "text": [
      "\n"
     ]
    },
    {
     "name": "stdout",
     "output_type": "stream",
     "text": [
      "\n",
      "      Epoch    GPU_mem   box_loss   cls_loss   dfl_loss  Instances       Size\n"
     ]
    },
    {
     "name": "stderr",
     "output_type": "stream",
     "text": [
      "      36/50      2.21G     0.8697     0.5987      1.191         24       \n",
      "                 Class     Images  Instances      Box(P          R      m"
     ]
    },
    {
     "name": "stdout",
     "output_type": "stream",
     "text": [
      "                   all        640        440       0.96       0.98      0.993      0.863\n"
     ]
    },
    {
     "name": "stderr",
     "output_type": "stream",
     "text": [
      "\n"
     ]
    },
    {
     "name": "stdout",
     "output_type": "stream",
     "text": [
      "\n",
      "      Epoch    GPU_mem   box_loss   cls_loss   dfl_loss  Instances       Size\n"
     ]
    },
    {
     "name": "stderr",
     "output_type": "stream",
     "text": [
      "      37/50      2.21G     0.8672     0.5915      1.195         20       \n",
      "                 Class     Images  Instances      Box(P          R      m"
     ]
    },
    {
     "name": "stdout",
     "output_type": "stream",
     "text": [
      "                   all        640        440      0.979      0.973      0.993      0.864\n"
     ]
    },
    {
     "name": "stderr",
     "output_type": "stream",
     "text": [
      "\n"
     ]
    },
    {
     "name": "stdout",
     "output_type": "stream",
     "text": [
      "\n",
      "      Epoch    GPU_mem   box_loss   cls_loss   dfl_loss  Instances       Size\n"
     ]
    },
    {
     "name": "stderr",
     "output_type": "stream",
     "text": [
      "      38/50      2.21G      0.857     0.6058      1.197         22       \n",
      "                 Class     Images  Instances      Box(P          R      m"
     ]
    },
    {
     "name": "stdout",
     "output_type": "stream",
     "text": [
      "                   all        640        440      0.964      0.983      0.993      0.873\n"
     ]
    },
    {
     "name": "stderr",
     "output_type": "stream",
     "text": [
      "\n"
     ]
    },
    {
     "name": "stdout",
     "output_type": "stream",
     "text": [
      "\n",
      "      Epoch    GPU_mem   box_loss   cls_loss   dfl_loss  Instances       Size\n"
     ]
    },
    {
     "name": "stderr",
     "output_type": "stream",
     "text": [
      "      39/50      2.21G     0.8544     0.5858      1.188         20       \n",
      "                 Class     Images  Instances      Box(P          R      m"
     ]
    },
    {
     "name": "stdout",
     "output_type": "stream",
     "text": [
      "                   all        640        440      0.976       0.98      0.993      0.878\n"
     ]
    },
    {
     "name": "stderr",
     "output_type": "stream",
     "text": [
      "\n"
     ]
    },
    {
     "name": "stdout",
     "output_type": "stream",
     "text": [
      "\n",
      "      Epoch    GPU_mem   box_loss   cls_loss   dfl_loss  Instances       Size\n"
     ]
    },
    {
     "name": "stderr",
     "output_type": "stream",
     "text": [
      "      40/50      2.21G     0.8517     0.5814      1.194         20       \n",
      "                 Class     Images  Instances      Box(P          R      m"
     ]
    },
    {
     "name": "stdout",
     "output_type": "stream",
     "text": [
      "                   all        640        440      0.967      0.985      0.993       0.88\n"
     ]
    },
    {
     "name": "stderr",
     "output_type": "stream",
     "text": [
      "\n"
     ]
    },
    {
     "name": "stdout",
     "output_type": "stream",
     "text": [
      "Closing dataloader mosaic\n",
      "\n",
      "      Epoch    GPU_mem   box_loss   cls_loss   dfl_loss  Instances       Size\n"
     ]
    },
    {
     "name": "stderr",
     "output_type": "stream",
     "text": [
      "      41/50      2.38G     0.7728     0.4815      1.262         12       \n",
      "                 Class     Images  Instances      Box(P          R      m\n"
     ]
    },
    {
     "name": "stdout",
     "output_type": "stream",
     "text": [
      "                   all        640        440      0.972      0.986      0.994      0.871\n",
      "\n",
      "      Epoch    GPU_mem   box_loss   cls_loss   dfl_loss  Instances       Size\n"
     ]
    },
    {
     "name": "stderr",
     "output_type": "stream",
     "text": [
      "      42/50      2.21G     0.7555     0.4482      1.248         11       \n",
      "                 Class     Images  Instances      Box(P          R      m"
     ]
    },
    {
     "name": "stdout",
     "output_type": "stream",
     "text": [
      "                   all        640        440      0.987      0.977      0.994      0.886\n"
     ]
    },
    {
     "name": "stderr",
     "output_type": "stream",
     "text": [
      "\n"
     ]
    },
    {
     "name": "stdout",
     "output_type": "stream",
     "text": [
      "\n",
      "      Epoch    GPU_mem   box_loss   cls_loss   dfl_loss  Instances       Size\n"
     ]
    },
    {
     "name": "stderr",
     "output_type": "stream",
     "text": [
      "      43/50      2.21G      0.739     0.4307      1.235         12       \n",
      "                 Class     Images  Instances      Box(P          R      m"
     ]
    },
    {
     "name": "stdout",
     "output_type": "stream",
     "text": [
      "                   all        640        440       0.98      0.982      0.994       0.88\n"
     ]
    },
    {
     "name": "stderr",
     "output_type": "stream",
     "text": [
      "\n"
     ]
    },
    {
     "name": "stdout",
     "output_type": "stream",
     "text": [
      "\n",
      "      Epoch    GPU_mem   box_loss   cls_loss   dfl_loss  Instances       Size\n"
     ]
    },
    {
     "name": "stderr",
     "output_type": "stream",
     "text": [
      "      44/50      2.21G     0.6992     0.4186      1.197         10       \n",
      "                 Class     Images  Instances      Box(P          R      m"
     ]
    },
    {
     "name": "stdout",
     "output_type": "stream",
     "text": [
      "                   all        640        440      0.973      0.994      0.994      0.901\n"
     ]
    },
    {
     "name": "stderr",
     "output_type": "stream",
     "text": [
      "\n"
     ]
    },
    {
     "name": "stdout",
     "output_type": "stream",
     "text": [
      "\n",
      "      Epoch    GPU_mem   box_loss   cls_loss   dfl_loss  Instances       Size\n"
     ]
    },
    {
     "name": "stderr",
     "output_type": "stream",
     "text": [
      "      45/50      2.21G      0.676     0.3955      1.178         10       \n",
      "                 Class     Images  Instances      Box(P          R      m"
     ]
    },
    {
     "name": "stdout",
     "output_type": "stream",
     "text": [
      "                   all        640        440      0.984       0.98      0.994      0.906\n"
     ]
    },
    {
     "name": "stderr",
     "output_type": "stream",
     "text": [
      "\n"
     ]
    },
    {
     "name": "stdout",
     "output_type": "stream",
     "text": [
      "\n",
      "      Epoch    GPU_mem   box_loss   cls_loss   dfl_loss  Instances       Size\n"
     ]
    },
    {
     "name": "stderr",
     "output_type": "stream",
     "text": [
      "      46/50      2.21G     0.6953      0.411      1.198         10       \n",
      "                 Class     Images  Instances      Box(P          R      m"
     ]
    },
    {
     "name": "stdout",
     "output_type": "stream",
     "text": [
      "                   all        640        440      0.978      0.996      0.994       0.91\n"
     ]
    },
    {
     "name": "stderr",
     "output_type": "stream",
     "text": [
      "\n"
     ]
    },
    {
     "name": "stdout",
     "output_type": "stream",
     "text": [
      "\n",
      "      Epoch    GPU_mem   box_loss   cls_loss   dfl_loss  Instances       Size\n"
     ]
    },
    {
     "name": "stderr",
     "output_type": "stream",
     "text": [
      "      47/50      2.21G     0.6515     0.3861      1.153         10       \n",
      "                 Class     Images  Instances      Box(P          R      m"
     ]
    },
    {
     "name": "stdout",
     "output_type": "stream",
     "text": [
      "                   all        640        440      0.983      0.984      0.994       0.91\n"
     ]
    },
    {
     "name": "stderr",
     "output_type": "stream",
     "text": [
      "\n"
     ]
    },
    {
     "name": "stdout",
     "output_type": "stream",
     "text": [
      "\n",
      "      Epoch    GPU_mem   box_loss   cls_loss   dfl_loss  Instances       Size\n"
     ]
    },
    {
     "name": "stderr",
     "output_type": "stream",
     "text": [
      "      48/50      2.21G     0.6398      0.367      1.148         12       \n",
      "                 Class     Images  Instances      Box(P          R      m"
     ]
    },
    {
     "name": "stdout",
     "output_type": "stream",
     "text": [
      "                   all        640        440      0.978      0.989      0.994      0.917\n"
     ]
    },
    {
     "name": "stderr",
     "output_type": "stream",
     "text": [
      "\n"
     ]
    },
    {
     "name": "stdout",
     "output_type": "stream",
     "text": [
      "\n",
      "      Epoch    GPU_mem   box_loss   cls_loss   dfl_loss  Instances       Size\n"
     ]
    },
    {
     "name": "stderr",
     "output_type": "stream",
     "text": [
      "      49/50      2.21G     0.6222     0.3671      1.131         10       \n",
      "                 Class     Images  Instances      Box(P          R      m"
     ]
    },
    {
     "name": "stdout",
     "output_type": "stream",
     "text": [
      "                   all        640        440      0.978      0.991      0.994      0.919\n"
     ]
    },
    {
     "name": "stderr",
     "output_type": "stream",
     "text": [
      "\n"
     ]
    },
    {
     "name": "stdout",
     "output_type": "stream",
     "text": [
      "\n",
      "      Epoch    GPU_mem   box_loss   cls_loss   dfl_loss  Instances       Size\n"
     ]
    },
    {
     "name": "stderr",
     "output_type": "stream",
     "text": [
      "      50/50      2.21G     0.6257     0.3809      1.136          9       \n",
      "                 Class     Images  Instances      Box(P          R      m"
     ]
    },
    {
     "name": "stdout",
     "output_type": "stream",
     "text": [
      "                   all        640        440      0.982      0.985      0.994      0.928\n"
     ]
    },
    {
     "name": "stderr",
     "output_type": "stream",
     "text": [
      "\n"
     ]
    },
    {
     "name": "stdout",
     "output_type": "stream",
     "text": [
      "\n",
      "50 epochs completed in 0.452 hours.\n",
      "Optimizer stripped from runs/detect/SagittalKneeJoint/weights/last.pt, 5.5MB\n",
      "Optimizer stripped from runs/detect/SagittalKneeJoint/weights/best.pt, 5.5MB\n",
      "\n",
      "Validating runs/detect/SagittalKneeJoint/weights/best.pt...\n",
      "Ultralytics 8.3.80 🚀 Python-3.12.7 torch-2.6.0+cu124 CUDA:0 (Quadro RTX 8000, 48407MiB)\n",
      "YOLO11n summary (fused): 100 layers, 2,582,347 parameters, 0 gradients, 6.3 GFLOPs\n"
     ]
    },
    {
     "name": "stderr",
     "output_type": "stream",
     "text": [
      "                 Class     Images  Instances      Box(P          R      m\n"
     ]
    },
    {
     "name": "stdout",
     "output_type": "stream",
     "text": [
      "                   all        640        440      0.982      0.985      0.994      0.928\n",
      "Speed: 0.3ms preprocess, 1.3ms inference, 0.0ms loss, 1.3ms postprocess per image\n",
      "Results saved to \u001b[1mruns/detect/SagittalKneeJoint\u001b[0m\n",
      "Training completed!\n"
     ]
    }
   ],
   "source": [
    "main(\"yolo\")  # Run YOLO model training"
   ]
  },
  {
   "cell_type": "code",
   "execution_count": 10,
   "id": "f462247f-59c9-43d1-8f03-c3bffa4a2c8c",
   "metadata": {},
   "outputs": [
    {
     "name": "stdout",
     "output_type": "stream",
     "text": [
      "Ultralytics 8.3.80 🚀 Python-3.12.7 torch-2.6.0+cu124 CUDA:0 (Quadro RTX 8000, 48407MiB)\n",
      "YOLO11n summary (fused): 100 layers, 2,582,347 parameters, 0 gradients, 6.3 GFLOPs\n"
     ]
    },
    {
     "name": "stderr",
     "output_type": "stream",
     "text": [
      "\u001b[34m\u001b[1mval: \u001b[0mScanning /data_vault/hexai/OAICartilage/YOLO_YOLOv11_Dataset/valid/labels.cache... \u001b[0m"
     ]
    },
    {
     "name": "stdout",
     "output_type": "stream",
     "text": [
      "\u001b[34m\u001b[1mval: \u001b[0mWARNING ⚠️ /data_vault/hexai/OAICartilage/YOLO_YOLOv11_Dataset/valid/images/9207905_20051111_10782812_slice_140.jpg: 1 duplicate labels removed\n"
     ]
    },
    {
     "name": "stderr",
     "output_type": "stream",
     "text": [
      "\n",
      "                 Class     Images  Instances      Box(P          R      mAP50  mAP50-95)\n"
     ]
    },
    {
     "name": "stdout",
     "output_type": "stream",
     "text": [
      "                   all        640        440      0.982      0.985      0.994      0.927\n",
      "Speed: 0.6ms preprocess, 2.1ms inference, 0.0ms loss, 1.2ms postprocess per image\n",
      "Results saved to \u001b[1mruns/detect/val\u001b[0m\n"
     ]
    }
   ],
   "source": [
    "from ultralytics import YOLO\n",
    "\n",
    "# Load the trained model\n",
    "model = YOLO('/data_vault/hexai/OAICartilage/runs/detect/SagittalKneeJoint/weights/best.pt')\n",
    "# Evaluate on the validation set\n",
    "metrics = model.val()  # evaluate model performance on the validation set"
   ]
  },
  {
   "cell_type": "code",
   "execution_count": 11,
   "id": "cda0a5a2-781a-438c-a97f-c8ec1b9dadc6",
   "metadata": {},
   "outputs": [
    {
     "name": "stdout",
     "output_type": "stream",
     "text": [
      "Ultralytics 8.3.80 🚀 Python-3.12.7 torch-2.6.0+cu124 CUDA:0 (Quadro RTX 8000, 48407MiB)\n"
     ]
    },
    {
     "name": "stderr",
     "output_type": "stream",
     "text": [
      "\u001b[34m\u001b[1mval: \u001b[0mScanning /data_vault/hexai/OAICartilage/YOLO_YOLOv11_Dataset/test/labels... 113 ima\u001b[0m\n"
     ]
    },
    {
     "name": "stdout",
     "output_type": "stream",
     "text": [
      "\u001b[34m\u001b[1mval: \u001b[0mNew cache created: /data_vault/hexai/OAICartilage/YOLO_YOLOv11_Dataset/test/labels.cache\n"
     ]
    },
    {
     "name": "stderr",
     "output_type": "stream",
     "text": [
      "                 Class     Images  Instances      Box(P          R      mAP50  mAP50-95)\n"
     ]
    },
    {
     "name": "stdout",
     "output_type": "stream",
     "text": [
      "                   all        160        113      0.991       0.99      0.995      0.928\n",
      "Speed: 2.4ms preprocess, 2.7ms inference, 0.0ms loss, 2.0ms postprocess per image\n",
      "Results saved to \u001b[1mruns/detect/val2\u001b[0m\n"
     ]
    }
   ],
   "source": [
    "# Evaluate on the test set\n",
    "metrics = model.val(data=\"/data_vault/hexai/OAICartilage/YOLO_YOLOv11_Dataset/KneeMRI.yaml\", split=\"test\") # This will give precision, recall, mAP, and other relevant metrics"
   ]
  },
  {
   "cell_type": "code",
   "execution_count": 12,
   "id": "59ae7957-fd5b-4c1f-83c2-9ee72bc545ee",
   "metadata": {},
   "outputs": [
    {
     "name": "stdout",
     "output_type": "stream",
     "text": [
      "Validation Metrics: ultralytics.utils.metrics.DetMetrics object with attributes:\n",
      "\n",
      "ap_class_index: array([0])\n",
      "box: ultralytics.utils.metrics.Metric object\n",
      "confusion_matrix: <ultralytics.utils.metrics.ConfusionMatrix object at 0x7f75b2fd96a0>\n",
      "curves: ['Precision-Recall(B)', 'F1-Confidence(B)', 'Precision-Confidence(B)', 'Recall-Confidence(B)']\n",
      "curves_results: [[array([          0,    0.001001,    0.002002,    0.003003,    0.004004,    0.005005,    0.006006,    0.007007,    0.008008,    0.009009,     0.01001,    0.011011,    0.012012,    0.013013,    0.014014,    0.015015,    0.016016,    0.017017,    0.018018,    0.019019,     0.02002,    0.021021,    0.022022,    0.023023,\n",
      "          0.024024,    0.025025,    0.026026,    0.027027,    0.028028,    0.029029,     0.03003,    0.031031,    0.032032,    0.033033,    0.034034,    0.035035,    0.036036,    0.037037,    0.038038,    0.039039,     0.04004,    0.041041,    0.042042,    0.043043,    0.044044,    0.045045,    0.046046,    0.047047,\n",
      "          0.048048,    0.049049,     0.05005,    0.051051,    0.052052,    0.053053,    0.054054,    0.055055,    0.056056,    0.057057,    0.058058,    0.059059,     0.06006,    0.061061,    0.062062,    0.063063,    0.064064,    0.065065,    0.066066,    0.067067,    0.068068,    0.069069,     0.07007,    0.071071,\n",
      "          0.072072,    0.073073,    0.074074,    0.075075,    0.076076,    0.077077,    0.078078,    0.079079,     0.08008,    0.081081,    0.082082,    0.083083,    0.084084,    0.085085,    0.086086,    0.087087,    0.088088,    0.089089,     0.09009,    0.091091,    0.092092,    0.093093,    0.094094,    0.095095,\n",
      "          0.096096,    0.097097,    0.098098,    0.099099,      0.1001,      0.1011,      0.1021,      0.1031,      0.1041,     0.10511,     0.10611,     0.10711,     0.10811,     0.10911,     0.11011,     0.11111,     0.11211,     0.11311,     0.11411,     0.11512,     0.11612,     0.11712,     0.11812,     0.11912,\n",
      "           0.12012,     0.12112,     0.12212,     0.12312,     0.12412,     0.12513,     0.12613,     0.12713,     0.12813,     0.12913,     0.13013,     0.13113,     0.13213,     0.13313,     0.13413,     0.13514,     0.13614,     0.13714,     0.13814,     0.13914,     0.14014,     0.14114,     0.14214,     0.14314,\n",
      "           0.14414,     0.14515,     0.14615,     0.14715,     0.14815,     0.14915,     0.15015,     0.15115,     0.15215,     0.15315,     0.15415,     0.15516,     0.15616,     0.15716,     0.15816,     0.15916,     0.16016,     0.16116,     0.16216,     0.16316,     0.16416,     0.16517,     0.16617,     0.16717,\n",
      "           0.16817,     0.16917,     0.17017,     0.17117,     0.17217,     0.17317,     0.17417,     0.17518,     0.17618,     0.17718,     0.17818,     0.17918,     0.18018,     0.18118,     0.18218,     0.18318,     0.18418,     0.18519,     0.18619,     0.18719,     0.18819,     0.18919,     0.19019,     0.19119,\n",
      "           0.19219,     0.19319,     0.19419,      0.1952,      0.1962,      0.1972,      0.1982,      0.1992,      0.2002,      0.2012,      0.2022,      0.2032,      0.2042,     0.20521,     0.20621,     0.20721,     0.20821,     0.20921,     0.21021,     0.21121,     0.21221,     0.21321,     0.21421,     0.21522,\n",
      "           0.21622,     0.21722,     0.21822,     0.21922,     0.22022,     0.22122,     0.22222,     0.22322,     0.22422,     0.22523,     0.22623,     0.22723,     0.22823,     0.22923,     0.23023,     0.23123,     0.23223,     0.23323,     0.23423,     0.23524,     0.23624,     0.23724,     0.23824,     0.23924,\n",
      "           0.24024,     0.24124,     0.24224,     0.24324,     0.24424,     0.24525,     0.24625,     0.24725,     0.24825,     0.24925,     0.25025,     0.25125,     0.25225,     0.25325,     0.25425,     0.25526,     0.25626,     0.25726,     0.25826,     0.25926,     0.26026,     0.26126,     0.26226,     0.26326,\n",
      "           0.26426,     0.26527,     0.26627,     0.26727,     0.26827,     0.26927,     0.27027,     0.27127,     0.27227,     0.27327,     0.27427,     0.27528,     0.27628,     0.27728,     0.27828,     0.27928,     0.28028,     0.28128,     0.28228,     0.28328,     0.28428,     0.28529,     0.28629,     0.28729,\n",
      "           0.28829,     0.28929,     0.29029,     0.29129,     0.29229,     0.29329,     0.29429,      0.2953,      0.2963,      0.2973,      0.2983,      0.2993,      0.3003,      0.3013,      0.3023,      0.3033,      0.3043,     0.30531,     0.30631,     0.30731,     0.30831,     0.30931,     0.31031,     0.31131,\n",
      "           0.31231,     0.31331,     0.31431,     0.31532,     0.31632,     0.31732,     0.31832,     0.31932,     0.32032,     0.32132,     0.32232,     0.32332,     0.32432,     0.32533,     0.32633,     0.32733,     0.32833,     0.32933,     0.33033,     0.33133,     0.33233,     0.33333,     0.33433,     0.33534,\n",
      "           0.33634,     0.33734,     0.33834,     0.33934,     0.34034,     0.34134,     0.34234,     0.34334,     0.34434,     0.34535,     0.34635,     0.34735,     0.34835,     0.34935,     0.35035,     0.35135,     0.35235,     0.35335,     0.35435,     0.35536,     0.35636,     0.35736,     0.35836,     0.35936,\n",
      "           0.36036,     0.36136,     0.36236,     0.36336,     0.36436,     0.36537,     0.36637,     0.36737,     0.36837,     0.36937,     0.37037,     0.37137,     0.37237,     0.37337,     0.37437,     0.37538,     0.37638,     0.37738,     0.37838,     0.37938,     0.38038,     0.38138,     0.38238,     0.38338,\n",
      "           0.38438,     0.38539,     0.38639,     0.38739,     0.38839,     0.38939,     0.39039,     0.39139,     0.39239,     0.39339,     0.39439,      0.3954,      0.3964,      0.3974,      0.3984,      0.3994,      0.4004,      0.4014,      0.4024,      0.4034,      0.4044,     0.40541,     0.40641,     0.40741,\n",
      "           0.40841,     0.40941,     0.41041,     0.41141,     0.41241,     0.41341,     0.41441,     0.41542,     0.41642,     0.41742,     0.41842,     0.41942,     0.42042,     0.42142,     0.42242,     0.42342,     0.42442,     0.42543,     0.42643,     0.42743,     0.42843,     0.42943,     0.43043,     0.43143,\n",
      "           0.43243,     0.43343,     0.43443,     0.43544,     0.43644,     0.43744,     0.43844,     0.43944,     0.44044,     0.44144,     0.44244,     0.44344,     0.44444,     0.44545,     0.44645,     0.44745,     0.44845,     0.44945,     0.45045,     0.45145,     0.45245,     0.45345,     0.45445,     0.45546,\n",
      "           0.45646,     0.45746,     0.45846,     0.45946,     0.46046,     0.46146,     0.46246,     0.46346,     0.46446,     0.46547,     0.46647,     0.46747,     0.46847,     0.46947,     0.47047,     0.47147,     0.47247,     0.47347,     0.47447,     0.47548,     0.47648,     0.47748,     0.47848,     0.47948,\n",
      "           0.48048,     0.48148,     0.48248,     0.48348,     0.48448,     0.48549,     0.48649,     0.48749,     0.48849,     0.48949,     0.49049,     0.49149,     0.49249,     0.49349,     0.49449,      0.4955,      0.4965,      0.4975,      0.4985,      0.4995,      0.5005,      0.5015,      0.5025,      0.5035,\n",
      "            0.5045,     0.50551,     0.50651,     0.50751,     0.50851,     0.50951,     0.51051,     0.51151,     0.51251,     0.51351,     0.51451,     0.51552,     0.51652,     0.51752,     0.51852,     0.51952,     0.52052,     0.52152,     0.52252,     0.52352,     0.52452,     0.52553,     0.52653,     0.52753,\n",
      "           0.52853,     0.52953,     0.53053,     0.53153,     0.53253,     0.53353,     0.53453,     0.53554,     0.53654,     0.53754,     0.53854,     0.53954,     0.54054,     0.54154,     0.54254,     0.54354,     0.54454,     0.54555,     0.54655,     0.54755,     0.54855,     0.54955,     0.55055,     0.55155,\n",
      "           0.55255,     0.55355,     0.55455,     0.55556,     0.55656,     0.55756,     0.55856,     0.55956,     0.56056,     0.56156,     0.56256,     0.56356,     0.56456,     0.56557,     0.56657,     0.56757,     0.56857,     0.56957,     0.57057,     0.57157,     0.57257,     0.57357,     0.57457,     0.57558,\n",
      "           0.57658,     0.57758,     0.57858,     0.57958,     0.58058,     0.58158,     0.58258,     0.58358,     0.58458,     0.58559,     0.58659,     0.58759,     0.58859,     0.58959,     0.59059,     0.59159,     0.59259,     0.59359,     0.59459,      0.5956,      0.5966,      0.5976,      0.5986,      0.5996,\n",
      "            0.6006,      0.6016,      0.6026,      0.6036,      0.6046,     0.60561,     0.60661,     0.60761,     0.60861,     0.60961,     0.61061,     0.61161,     0.61261,     0.61361,     0.61461,     0.61562,     0.61662,     0.61762,     0.61862,     0.61962,     0.62062,     0.62162,     0.62262,     0.62362,\n",
      "           0.62462,     0.62563,     0.62663,     0.62763,     0.62863,     0.62963,     0.63063,     0.63163,     0.63263,     0.63363,     0.63463,     0.63564,     0.63664,     0.63764,     0.63864,     0.63964,     0.64064,     0.64164,     0.64264,     0.64364,     0.64464,     0.64565,     0.64665,     0.64765,\n",
      "           0.64865,     0.64965,     0.65065,     0.65165,     0.65265,     0.65365,     0.65465,     0.65566,     0.65666,     0.65766,     0.65866,     0.65966,     0.66066,     0.66166,     0.66266,     0.66366,     0.66466,     0.66567,     0.66667,     0.66767,     0.66867,     0.66967,     0.67067,     0.67167,\n",
      "           0.67267,     0.67367,     0.67467,     0.67568,     0.67668,     0.67768,     0.67868,     0.67968,     0.68068,     0.68168,     0.68268,     0.68368,     0.68468,     0.68569,     0.68669,     0.68769,     0.68869,     0.68969,     0.69069,     0.69169,     0.69269,     0.69369,     0.69469,      0.6957,\n",
      "            0.6967,      0.6977,      0.6987,      0.6997,      0.7007,      0.7017,      0.7027,      0.7037,      0.7047,     0.70571,     0.70671,     0.70771,     0.70871,     0.70971,     0.71071,     0.71171,     0.71271,     0.71371,     0.71471,     0.71572,     0.71672,     0.71772,     0.71872,     0.71972,\n",
      "           0.72072,     0.72172,     0.72272,     0.72372,     0.72472,     0.72573,     0.72673,     0.72773,     0.72873,     0.72973,     0.73073,     0.73173,     0.73273,     0.73373,     0.73473,     0.73574,     0.73674,     0.73774,     0.73874,     0.73974,     0.74074,     0.74174,     0.74274,     0.74374,\n",
      "           0.74474,     0.74575,     0.74675,     0.74775,     0.74875,     0.74975,     0.75075,     0.75175,     0.75275,     0.75375,     0.75475,     0.75576,     0.75676,     0.75776,     0.75876,     0.75976,     0.76076,     0.76176,     0.76276,     0.76376,     0.76476,     0.76577,     0.76677,     0.76777,\n",
      "           0.76877,     0.76977,     0.77077,     0.77177,     0.77277,     0.77377,     0.77477,     0.77578,     0.77678,     0.77778,     0.77878,     0.77978,     0.78078,     0.78178,     0.78278,     0.78378,     0.78478,     0.78579,     0.78679,     0.78779,     0.78879,     0.78979,     0.79079,     0.79179,\n",
      "           0.79279,     0.79379,     0.79479,      0.7958,      0.7968,      0.7978,      0.7988,      0.7998,      0.8008,      0.8018,      0.8028,      0.8038,      0.8048,     0.80581,     0.80681,     0.80781,     0.80881,     0.80981,     0.81081,     0.81181,     0.81281,     0.81381,     0.81481,     0.81582,\n",
      "           0.81682,     0.81782,     0.81882,     0.81982,     0.82082,     0.82182,     0.82282,     0.82382,     0.82482,     0.82583,     0.82683,     0.82783,     0.82883,     0.82983,     0.83083,     0.83183,     0.83283,     0.83383,     0.83483,     0.83584,     0.83684,     0.83784,     0.83884,     0.83984,\n",
      "           0.84084,     0.84184,     0.84284,     0.84384,     0.84484,     0.84585,     0.84685,     0.84785,     0.84885,     0.84985,     0.85085,     0.85185,     0.85285,     0.85385,     0.85485,     0.85586,     0.85686,     0.85786,     0.85886,     0.85986,     0.86086,     0.86186,     0.86286,     0.86386,\n",
      "           0.86486,     0.86587,     0.86687,     0.86787,     0.86887,     0.86987,     0.87087,     0.87187,     0.87287,     0.87387,     0.87487,     0.87588,     0.87688,     0.87788,     0.87888,     0.87988,     0.88088,     0.88188,     0.88288,     0.88388,     0.88488,     0.88589,     0.88689,     0.88789,\n",
      "           0.88889,     0.88989,     0.89089,     0.89189,     0.89289,     0.89389,     0.89489,      0.8959,      0.8969,      0.8979,      0.8989,      0.8999,      0.9009,      0.9019,      0.9029,      0.9039,      0.9049,     0.90591,     0.90691,     0.90791,     0.90891,     0.90991,     0.91091,     0.91191,\n",
      "           0.91291,     0.91391,     0.91491,     0.91592,     0.91692,     0.91792,     0.91892,     0.91992,     0.92092,     0.92192,     0.92292,     0.92392,     0.92492,     0.92593,     0.92693,     0.92793,     0.92893,     0.92993,     0.93093,     0.93193,     0.93293,     0.93393,     0.93493,     0.93594,\n",
      "           0.93694,     0.93794,     0.93894,     0.93994,     0.94094,     0.94194,     0.94294,     0.94394,     0.94494,     0.94595,     0.94695,     0.94795,     0.94895,     0.94995,     0.95095,     0.95195,     0.95295,     0.95395,     0.95495,     0.95596,     0.95696,     0.95796,     0.95896,     0.95996,\n",
      "           0.96096,     0.96196,     0.96296,     0.96396,     0.96496,     0.96597,     0.96697,     0.96797,     0.96897,     0.96997,     0.97097,     0.97197,     0.97297,     0.97397,     0.97497,     0.97598,     0.97698,     0.97798,     0.97898,     0.97998,     0.98098,     0.98198,     0.98298,     0.98398,\n",
      "           0.98498,     0.98599,     0.98699,     0.98799,     0.98899,     0.98999,     0.99099,     0.99199,     0.99299,     0.99399,     0.99499,       0.996,       0.997,       0.998,       0.999,           1]), array([[          1,           1,           1,           1,           1,           1,           1,           1,           1,           1,           1,           1,           1,           1,           1,           1,           1,           1,           1,           1,           1,           1,           1,\n",
      "                  1,           1,           1,           1,           1,           1,           1,           1,           1,           1,           1,           1,           1,           1,           1,           1,           1,           1,           1,           1,           1,           1,           1,\n",
      "                  1,           1,           1,           1,           1,           1,           1,           1,           1,           1,           1,           1,           1,           1,           1,           1,           1,           1,           1,           1,           1,           1,           1,\n",
      "                  1,           1,           1,           1,           1,           1,           1,           1,           1,           1,           1,           1,           1,           1,           1,           1,           1,           1,           1,           1,           1,           1,           1,\n",
      "                  1,           1,           1,           1,           1,           1,           1,           1,           1,           1,           1,           1,           1,           1,           1,           1,           1,           1,           1,           1,           1,           1,           1,\n",
      "                  1,           1,           1,           1,           1,           1,           1,           1,           1,           1,           1,           1,           1,           1,           1,           1,           1,           1,           1,           1,           1,           1,           1,\n",
      "                  1,           1,           1,           1,           1,           1,           1,           1,           1,           1,           1,           1,           1,           1,           1,           1,           1,           1,           1,           1,           1,           1,           1,\n",
      "                  1,           1,           1,           1,           1,           1,           1,           1,           1,           1,           1,           1,           1,           1,           1,           1,           1,           1,           1,           1,           1,           1,           1,\n",
      "                  1,           1,           1,           1,           1,           1,           1,           1,           1,           1,           1,           1,           1,           1,           1,           1,           1,           1,           1,           1,           1,           1,           1,\n",
      "                  1,           1,           1,           1,           1,           1,           1,           1,           1,           1,           1,           1,           1,           1,           1,           1,           1,           1,           1,           1,           1,           1,           1,\n",
      "                  1,           1,           1,           1,           1,           1,           1,           1,           1,           1,           1,           1,           1,           1,           1,           1,           1,           1,           1,           1,           1,           1,           1,\n",
      "                  1,           1,           1,           1,           1,           1,           1,           1,           1,           1,           1,           1,           1,           1,           1,           1,           1,           1,           1,           1,           1,           1,           1,\n",
      "                  1,           1,           1,           1,           1,           1,           1,           1,           1,           1,           1,           1,           1,           1,           1,           1,           1,           1,           1,           1,           1,           1,           1,\n",
      "                  1,           1,           1,           1,           1,           1,           1,           1,           1,           1,           1,           1,           1,           1,           1,           1,           1,           1,           1,           1,           1,           1,           1,\n",
      "                  1,           1,           1,           1,           1,           1,           1,           1,           1,           1,           1,           1,           1,           1,           1,           1,           1,           1,           1,           1,           1,           1,           1,\n",
      "                  1,           1,           1,           1,           1,           1,           1,           1,           1,           1,           1,           1,           1,           1,           1,           1,           1,           1,           1,           1,           1,           1,           1,\n",
      "                  1,           1,           1,           1,           1,           1,           1,           1,           1,           1,           1,           1,           1,           1,           1,           1,           1,           1,           1,           1,           1,           1,           1,\n",
      "                  1,           1,           1,           1,           1,           1,           1,           1,           1,           1,           1,           1,           1,           1,           1,           1,           1,           1,           1,           1,           1,           1,           1,\n",
      "                  1,           1,           1,           1,           1,           1,           1,           1,           1,           1,           1,           1,           1,           1,           1,           1,           1,           1,           1,           1,           1,           1,           1,\n",
      "                  1,           1,           1,           1,           1,           1,           1,           1,           1,           1,           1,           1,           1,           1,           1,           1,           1,           1,           1,           1,           1,           1,           1,\n",
      "                  1,           1,           1,           1,           1,           1,           1,           1,           1,           1,           1,           1,           1,           1,           1,           1,           1,           1,           1,           1,           1,           1,           1,\n",
      "                  1,           1,           1,           1,           1,           1,           1,           1,           1,           1,           1,           1,           1,           1,           1,           1,           1,           1,           1,           1,           1,           1,           1,\n",
      "                  1,           1,           1,           1,           1,           1,           1,           1,           1,           1,           1,           1,           1,           1,           1,           1,           1,           1,           1,           1,           1,           1,           1,\n",
      "                  1,           1,           1,           1,           1,           1,           1,           1,           1,           1,           1,           1,           1,           1,           1,           1,           1,           1,           1,           1,           1,           1,           1,\n",
      "                  1,           1,           1,           1,           1,           1,           1,           1,           1,           1,           1,           1,           1,           1,           1,           1,           1,           1,           1,           1,           1,           1,           1,\n",
      "                  1,           1,           1,           1,           1,           1,           1,           1,           1,           1,           1,           1,           1,           1,           1,           1,           1,           1,           1,           1,           1,           1,           1,\n",
      "                  1,           1,           1,           1,           1,           1,           1,           1,           1,           1,           1,           1,           1,           1,           1,           1,           1,           1,           1,           1,           1,           1,           1,\n",
      "                  1,           1,           1,           1,           1,           1,           1,           1,           1,           1,           1,           1,           1,           1,           1,           1,           1,           1,           1,           1,           1,           1,           1,\n",
      "                  1,           1,           1,           1,           1,           1,           1,           1,           1,           1,           1,           1,           1,           1,           1,           1,           1,           1,           1,           1,           1,           1,           1,\n",
      "                  1,           1,           1,           1,           1,           1,           1,           1,           1,           1,           1,           1,           1,           1,           1,           1,           1,           1,           1,           1,           1,           1,           1,\n",
      "                  1,           1,           1,           1,           1,           1,           1,           1,           1,           1,           1,           1,           1,           1,           1,           1,           1,           1,           1,           1,           1,           1,           1,\n",
      "                  1,           1,           1,           1,           1,           1,           1,           1,           1,           1,           1,           1,           1,           1,           1,           1,           1,           1,           1,           1,           1,           1,           1,\n",
      "                  1,           1,           1,           1,           1,           1,           1,           1,           1,           1,           1,           1,           1,           1,           1,           1,           1,           1,           1,           1,           1,           1,           1,\n",
      "                  1,           1,           1,           1,           1,           1,           1,           1,           1,           1,           1,           1,           1,           1,           1,           1,           1,           1,           1,           1,           1,           1,           1,\n",
      "                  1,           1,           1,           1,           1,           1,           1,           1,           1,           1,           1,           1,           1,           1,           1,           1,           1,           1,           1,           1,           1,           1,           1,\n",
      "                  1,           1,           1,           1,           1,           1,           1,           1,           1,           1,           1,           1,           1,           1,           1,           1,           1,           1,           1,           1,           1,           1,           1,\n",
      "                  1,           1,           1,           1,           1,           1,           1,           1,           1,           1,           1,           1,           1,           1,           1,           1,           1,           1,           1,           1,           1,           1,           1,\n",
      "                  1,           1,           1,           1,           1,           1,           1,           1,           1,           1,           1,           1,           1,           1,           1,           1,           1,           1,           1,           1,           1,           1,           1,\n",
      "                  1,           1,           1,           1,           1,           1,           1,           1,           1,           1,           1,           1,           1,           1,           1,           1,           1,           1,           1,           1,           1,           1,           1,\n",
      "                  1,           1,           1,           1,           1,           1,           1,           1,           1,           1,           1,           1,           1,           1,           1,           1,           1,           1,           1,           1,           1,           1,           1,\n",
      "                  1,           1,           1,           1,           1,           1,           1,           1,           1,           1,           1,           1,           1,           1,           1,           1,           1,           1,           1,           1,           1,           1,           1,\n",
      "                  1,           1,           1,           1,           1,           1,           1,           1,           1,           1,           1,           1,           1,           1,           1,           1,           1,           1,           1,           1,           1,           1,           1,\n",
      "                  1,           1,           1,           1,           1,           1,           1,           1,           1,           1,           1,           1,           1,           1,           1,           1,     0.99115,     0.99115,     0.99115,     0.99115,     0.99115,     0.99115,     0.99115,\n",
      "            0.99115,     0.99115,     0.94958,     0.94958,     0.94958,     0.94958,     0.94958,     0.94958,     0.94958,     0.94958,           0]]), 'Recall', 'Precision'], [array([          0,    0.001001,    0.002002,    0.003003,    0.004004,    0.005005,    0.006006,    0.007007,    0.008008,    0.009009,     0.01001,    0.011011,    0.012012,    0.013013,    0.014014,    0.015015,    0.016016,    0.017017,    0.018018,    0.019019,     0.02002,    0.021021,    0.022022,    0.023023,\n",
      "          0.024024,    0.025025,    0.026026,    0.027027,    0.028028,    0.029029,     0.03003,    0.031031,    0.032032,    0.033033,    0.034034,    0.035035,    0.036036,    0.037037,    0.038038,    0.039039,     0.04004,    0.041041,    0.042042,    0.043043,    0.044044,    0.045045,    0.046046,    0.047047,\n",
      "          0.048048,    0.049049,     0.05005,    0.051051,    0.052052,    0.053053,    0.054054,    0.055055,    0.056056,    0.057057,    0.058058,    0.059059,     0.06006,    0.061061,    0.062062,    0.063063,    0.064064,    0.065065,    0.066066,    0.067067,    0.068068,    0.069069,     0.07007,    0.071071,\n",
      "          0.072072,    0.073073,    0.074074,    0.075075,    0.076076,    0.077077,    0.078078,    0.079079,     0.08008,    0.081081,    0.082082,    0.083083,    0.084084,    0.085085,    0.086086,    0.087087,    0.088088,    0.089089,     0.09009,    0.091091,    0.092092,    0.093093,    0.094094,    0.095095,\n",
      "          0.096096,    0.097097,    0.098098,    0.099099,      0.1001,      0.1011,      0.1021,      0.1031,      0.1041,     0.10511,     0.10611,     0.10711,     0.10811,     0.10911,     0.11011,     0.11111,     0.11211,     0.11311,     0.11411,     0.11512,     0.11612,     0.11712,     0.11812,     0.11912,\n",
      "           0.12012,     0.12112,     0.12212,     0.12312,     0.12412,     0.12513,     0.12613,     0.12713,     0.12813,     0.12913,     0.13013,     0.13113,     0.13213,     0.13313,     0.13413,     0.13514,     0.13614,     0.13714,     0.13814,     0.13914,     0.14014,     0.14114,     0.14214,     0.14314,\n",
      "           0.14414,     0.14515,     0.14615,     0.14715,     0.14815,     0.14915,     0.15015,     0.15115,     0.15215,     0.15315,     0.15415,     0.15516,     0.15616,     0.15716,     0.15816,     0.15916,     0.16016,     0.16116,     0.16216,     0.16316,     0.16416,     0.16517,     0.16617,     0.16717,\n",
      "           0.16817,     0.16917,     0.17017,     0.17117,     0.17217,     0.17317,     0.17417,     0.17518,     0.17618,     0.17718,     0.17818,     0.17918,     0.18018,     0.18118,     0.18218,     0.18318,     0.18418,     0.18519,     0.18619,     0.18719,     0.18819,     0.18919,     0.19019,     0.19119,\n",
      "           0.19219,     0.19319,     0.19419,      0.1952,      0.1962,      0.1972,      0.1982,      0.1992,      0.2002,      0.2012,      0.2022,      0.2032,      0.2042,     0.20521,     0.20621,     0.20721,     0.20821,     0.20921,     0.21021,     0.21121,     0.21221,     0.21321,     0.21421,     0.21522,\n",
      "           0.21622,     0.21722,     0.21822,     0.21922,     0.22022,     0.22122,     0.22222,     0.22322,     0.22422,     0.22523,     0.22623,     0.22723,     0.22823,     0.22923,     0.23023,     0.23123,     0.23223,     0.23323,     0.23423,     0.23524,     0.23624,     0.23724,     0.23824,     0.23924,\n",
      "           0.24024,     0.24124,     0.24224,     0.24324,     0.24424,     0.24525,     0.24625,     0.24725,     0.24825,     0.24925,     0.25025,     0.25125,     0.25225,     0.25325,     0.25425,     0.25526,     0.25626,     0.25726,     0.25826,     0.25926,     0.26026,     0.26126,     0.26226,     0.26326,\n",
      "           0.26426,     0.26527,     0.26627,     0.26727,     0.26827,     0.26927,     0.27027,     0.27127,     0.27227,     0.27327,     0.27427,     0.27528,     0.27628,     0.27728,     0.27828,     0.27928,     0.28028,     0.28128,     0.28228,     0.28328,     0.28428,     0.28529,     0.28629,     0.28729,\n",
      "           0.28829,     0.28929,     0.29029,     0.29129,     0.29229,     0.29329,     0.29429,      0.2953,      0.2963,      0.2973,      0.2983,      0.2993,      0.3003,      0.3013,      0.3023,      0.3033,      0.3043,     0.30531,     0.30631,     0.30731,     0.30831,     0.30931,     0.31031,     0.31131,\n",
      "           0.31231,     0.31331,     0.31431,     0.31532,     0.31632,     0.31732,     0.31832,     0.31932,     0.32032,     0.32132,     0.32232,     0.32332,     0.32432,     0.32533,     0.32633,     0.32733,     0.32833,     0.32933,     0.33033,     0.33133,     0.33233,     0.33333,     0.33433,     0.33534,\n",
      "           0.33634,     0.33734,     0.33834,     0.33934,     0.34034,     0.34134,     0.34234,     0.34334,     0.34434,     0.34535,     0.34635,     0.34735,     0.34835,     0.34935,     0.35035,     0.35135,     0.35235,     0.35335,     0.35435,     0.35536,     0.35636,     0.35736,     0.35836,     0.35936,\n",
      "           0.36036,     0.36136,     0.36236,     0.36336,     0.36436,     0.36537,     0.36637,     0.36737,     0.36837,     0.36937,     0.37037,     0.37137,     0.37237,     0.37337,     0.37437,     0.37538,     0.37638,     0.37738,     0.37838,     0.37938,     0.38038,     0.38138,     0.38238,     0.38338,\n",
      "           0.38438,     0.38539,     0.38639,     0.38739,     0.38839,     0.38939,     0.39039,     0.39139,     0.39239,     0.39339,     0.39439,      0.3954,      0.3964,      0.3974,      0.3984,      0.3994,      0.4004,      0.4014,      0.4024,      0.4034,      0.4044,     0.40541,     0.40641,     0.40741,\n",
      "           0.40841,     0.40941,     0.41041,     0.41141,     0.41241,     0.41341,     0.41441,     0.41542,     0.41642,     0.41742,     0.41842,     0.41942,     0.42042,     0.42142,     0.42242,     0.42342,     0.42442,     0.42543,     0.42643,     0.42743,     0.42843,     0.42943,     0.43043,     0.43143,\n",
      "           0.43243,     0.43343,     0.43443,     0.43544,     0.43644,     0.43744,     0.43844,     0.43944,     0.44044,     0.44144,     0.44244,     0.44344,     0.44444,     0.44545,     0.44645,     0.44745,     0.44845,     0.44945,     0.45045,     0.45145,     0.45245,     0.45345,     0.45445,     0.45546,\n",
      "           0.45646,     0.45746,     0.45846,     0.45946,     0.46046,     0.46146,     0.46246,     0.46346,     0.46446,     0.46547,     0.46647,     0.46747,     0.46847,     0.46947,     0.47047,     0.47147,     0.47247,     0.47347,     0.47447,     0.47548,     0.47648,     0.47748,     0.47848,     0.47948,\n",
      "           0.48048,     0.48148,     0.48248,     0.48348,     0.48448,     0.48549,     0.48649,     0.48749,     0.48849,     0.48949,     0.49049,     0.49149,     0.49249,     0.49349,     0.49449,      0.4955,      0.4965,      0.4975,      0.4985,      0.4995,      0.5005,      0.5015,      0.5025,      0.5035,\n",
      "            0.5045,     0.50551,     0.50651,     0.50751,     0.50851,     0.50951,     0.51051,     0.51151,     0.51251,     0.51351,     0.51451,     0.51552,     0.51652,     0.51752,     0.51852,     0.51952,     0.52052,     0.52152,     0.52252,     0.52352,     0.52452,     0.52553,     0.52653,     0.52753,\n",
      "           0.52853,     0.52953,     0.53053,     0.53153,     0.53253,     0.53353,     0.53453,     0.53554,     0.53654,     0.53754,     0.53854,     0.53954,     0.54054,     0.54154,     0.54254,     0.54354,     0.54454,     0.54555,     0.54655,     0.54755,     0.54855,     0.54955,     0.55055,     0.55155,\n",
      "           0.55255,     0.55355,     0.55455,     0.55556,     0.55656,     0.55756,     0.55856,     0.55956,     0.56056,     0.56156,     0.56256,     0.56356,     0.56456,     0.56557,     0.56657,     0.56757,     0.56857,     0.56957,     0.57057,     0.57157,     0.57257,     0.57357,     0.57457,     0.57558,\n",
      "           0.57658,     0.57758,     0.57858,     0.57958,     0.58058,     0.58158,     0.58258,     0.58358,     0.58458,     0.58559,     0.58659,     0.58759,     0.58859,     0.58959,     0.59059,     0.59159,     0.59259,     0.59359,     0.59459,      0.5956,      0.5966,      0.5976,      0.5986,      0.5996,\n",
      "            0.6006,      0.6016,      0.6026,      0.6036,      0.6046,     0.60561,     0.60661,     0.60761,     0.60861,     0.60961,     0.61061,     0.61161,     0.61261,     0.61361,     0.61461,     0.61562,     0.61662,     0.61762,     0.61862,     0.61962,     0.62062,     0.62162,     0.62262,     0.62362,\n",
      "           0.62462,     0.62563,     0.62663,     0.62763,     0.62863,     0.62963,     0.63063,     0.63163,     0.63263,     0.63363,     0.63463,     0.63564,     0.63664,     0.63764,     0.63864,     0.63964,     0.64064,     0.64164,     0.64264,     0.64364,     0.64464,     0.64565,     0.64665,     0.64765,\n",
      "           0.64865,     0.64965,     0.65065,     0.65165,     0.65265,     0.65365,     0.65465,     0.65566,     0.65666,     0.65766,     0.65866,     0.65966,     0.66066,     0.66166,     0.66266,     0.66366,     0.66466,     0.66567,     0.66667,     0.66767,     0.66867,     0.66967,     0.67067,     0.67167,\n",
      "           0.67267,     0.67367,     0.67467,     0.67568,     0.67668,     0.67768,     0.67868,     0.67968,     0.68068,     0.68168,     0.68268,     0.68368,     0.68468,     0.68569,     0.68669,     0.68769,     0.68869,     0.68969,     0.69069,     0.69169,     0.69269,     0.69369,     0.69469,      0.6957,\n",
      "            0.6967,      0.6977,      0.6987,      0.6997,      0.7007,      0.7017,      0.7027,      0.7037,      0.7047,     0.70571,     0.70671,     0.70771,     0.70871,     0.70971,     0.71071,     0.71171,     0.71271,     0.71371,     0.71471,     0.71572,     0.71672,     0.71772,     0.71872,     0.71972,\n",
      "           0.72072,     0.72172,     0.72272,     0.72372,     0.72472,     0.72573,     0.72673,     0.72773,     0.72873,     0.72973,     0.73073,     0.73173,     0.73273,     0.73373,     0.73473,     0.73574,     0.73674,     0.73774,     0.73874,     0.73974,     0.74074,     0.74174,     0.74274,     0.74374,\n",
      "           0.74474,     0.74575,     0.74675,     0.74775,     0.74875,     0.74975,     0.75075,     0.75175,     0.75275,     0.75375,     0.75475,     0.75576,     0.75676,     0.75776,     0.75876,     0.75976,     0.76076,     0.76176,     0.76276,     0.76376,     0.76476,     0.76577,     0.76677,     0.76777,\n",
      "           0.76877,     0.76977,     0.77077,     0.77177,     0.77277,     0.77377,     0.77477,     0.77578,     0.77678,     0.77778,     0.77878,     0.77978,     0.78078,     0.78178,     0.78278,     0.78378,     0.78478,     0.78579,     0.78679,     0.78779,     0.78879,     0.78979,     0.79079,     0.79179,\n",
      "           0.79279,     0.79379,     0.79479,      0.7958,      0.7968,      0.7978,      0.7988,      0.7998,      0.8008,      0.8018,      0.8028,      0.8038,      0.8048,     0.80581,     0.80681,     0.80781,     0.80881,     0.80981,     0.81081,     0.81181,     0.81281,     0.81381,     0.81481,     0.81582,\n",
      "           0.81682,     0.81782,     0.81882,     0.81982,     0.82082,     0.82182,     0.82282,     0.82382,     0.82482,     0.82583,     0.82683,     0.82783,     0.82883,     0.82983,     0.83083,     0.83183,     0.83283,     0.83383,     0.83483,     0.83584,     0.83684,     0.83784,     0.83884,     0.83984,\n",
      "           0.84084,     0.84184,     0.84284,     0.84384,     0.84484,     0.84585,     0.84685,     0.84785,     0.84885,     0.84985,     0.85085,     0.85185,     0.85285,     0.85385,     0.85485,     0.85586,     0.85686,     0.85786,     0.85886,     0.85986,     0.86086,     0.86186,     0.86286,     0.86386,\n",
      "           0.86486,     0.86587,     0.86687,     0.86787,     0.86887,     0.86987,     0.87087,     0.87187,     0.87287,     0.87387,     0.87487,     0.87588,     0.87688,     0.87788,     0.87888,     0.87988,     0.88088,     0.88188,     0.88288,     0.88388,     0.88488,     0.88589,     0.88689,     0.88789,\n",
      "           0.88889,     0.88989,     0.89089,     0.89189,     0.89289,     0.89389,     0.89489,      0.8959,      0.8969,      0.8979,      0.8989,      0.8999,      0.9009,      0.9019,      0.9029,      0.9039,      0.9049,     0.90591,     0.90691,     0.90791,     0.90891,     0.90991,     0.91091,     0.91191,\n",
      "           0.91291,     0.91391,     0.91491,     0.91592,     0.91692,     0.91792,     0.91892,     0.91992,     0.92092,     0.92192,     0.92292,     0.92392,     0.92492,     0.92593,     0.92693,     0.92793,     0.92893,     0.92993,     0.93093,     0.93193,     0.93293,     0.93393,     0.93493,     0.93594,\n",
      "           0.93694,     0.93794,     0.93894,     0.93994,     0.94094,     0.94194,     0.94294,     0.94394,     0.94494,     0.94595,     0.94695,     0.94795,     0.94895,     0.94995,     0.95095,     0.95195,     0.95295,     0.95395,     0.95495,     0.95596,     0.95696,     0.95796,     0.95896,     0.95996,\n",
      "           0.96096,     0.96196,     0.96296,     0.96396,     0.96496,     0.96597,     0.96697,     0.96797,     0.96897,     0.96997,     0.97097,     0.97197,     0.97297,     0.97397,     0.97497,     0.97598,     0.97698,     0.97798,     0.97898,     0.97998,     0.98098,     0.98198,     0.98298,     0.98398,\n",
      "           0.98498,     0.98599,     0.98699,     0.98799,     0.98899,     0.98999,     0.99099,     0.99199,     0.99299,     0.99399,     0.99499,       0.996,       0.997,       0.998,       0.999,           1]), array([[    0.84644,     0.84644,     0.88821,     0.92707,     0.94422,     0.95034,     0.95156,     0.95278,     0.95973,     0.96511,     0.96723,      0.9689,       0.971,     0.97386,     0.97283,     0.97137,     0.96991,     0.97123,     0.97302,       0.974,     0.97419,     0.97437,     0.97456,\n",
      "            0.97474,     0.97493,     0.97511,     0.97529,     0.97548,     0.97566,     0.97585,     0.97603,     0.97621,      0.9764,     0.97658,     0.97677,     0.97695,     0.97713,     0.97732,      0.9775,     0.97768,     0.97787,     0.97805,     0.97827,     0.97856,     0.97885,     0.97914,\n",
      "            0.97943,     0.97972,     0.98001,      0.9803,     0.98059,     0.98088,     0.98117,     0.98145,     0.98174,     0.98203,     0.98232,     0.98247,      0.9825,     0.98252,     0.98255,     0.98258,      0.9826,     0.98263,     0.98266,     0.98268,     0.98271,     0.98274,     0.98276,\n",
      "            0.98279,     0.98282,     0.98284,     0.98287,      0.9829,     0.98292,     0.98295,     0.98298,       0.983,     0.98303,     0.98306,     0.98309,     0.98311,     0.98314,     0.98317,     0.98319,     0.98322,     0.98325,     0.98327,      0.9833,     0.98333,     0.98335,     0.98338,\n",
      "            0.98341,     0.98343,     0.98346,     0.98349,     0.98351,     0.98354,     0.98357,     0.98359,     0.98362,     0.98365,     0.98367,      0.9837,     0.98373,     0.98375,     0.98378,     0.98381,     0.98383,     0.98386,     0.98389,     0.98391,     0.98394,     0.98397,     0.98399,\n",
      "            0.98402,     0.98405,     0.98407,      0.9841,     0.98413,     0.98415,     0.98418,     0.98421,     0.98423,     0.98426,     0.98429,     0.98431,     0.98434,     0.98437,     0.98439,     0.98442,     0.98445,     0.98447,      0.9845,     0.98453,     0.98455,     0.98458,     0.98461,\n",
      "            0.98463,     0.98466,     0.98469,     0.98471,     0.98474,     0.98477,     0.98479,     0.98482,     0.98485,     0.98487,      0.9849,     0.98493,     0.98495,     0.98498,     0.98501,     0.98503,     0.98506,     0.98509,     0.98511,     0.98514,     0.98516,     0.98519,     0.98522,\n",
      "            0.98524,     0.98527,      0.9853,     0.98532,     0.98535,     0.98538,      0.9854,     0.98543,     0.98546,     0.98548,     0.98551,     0.98554,     0.98556,     0.98559,     0.98562,     0.98564,     0.98567,      0.9857,     0.98572,     0.98575,     0.98578,      0.9858,     0.98583,\n",
      "            0.98586,     0.98588,     0.98591,     0.98594,     0.98596,     0.98599,     0.98602,     0.98604,     0.98607,      0.9861,     0.98612,     0.98615,     0.98618,      0.9862,     0.98623,     0.98625,     0.98628,     0.98631,     0.98633,     0.98636,     0.98639,     0.98641,     0.98644,\n",
      "            0.98647,     0.98649,     0.98652,     0.98655,     0.98657,      0.9866,     0.98663,     0.98665,     0.98668,     0.98671,     0.98673,     0.98676,     0.98679,     0.98684,     0.98688,     0.98693,     0.98698,     0.98703,     0.98708,     0.98713,     0.98718,     0.98722,     0.98727,\n",
      "            0.98732,     0.98737,     0.98742,     0.98747,     0.98752,     0.98756,     0.98761,     0.98766,     0.98771,     0.98776,     0.98781,     0.98786,      0.9879,     0.98795,       0.988,     0.98805,      0.9881,     0.98815,      0.9882,     0.98824,     0.98829,     0.98834,     0.98839,\n",
      "            0.98844,     0.98849,     0.98854,     0.98858,     0.98863,     0.98868,     0.98873,     0.98878,     0.98883,     0.98888,     0.98892,     0.98897,     0.98902,     0.98907,     0.98912,     0.98917,     0.98921,     0.98926,     0.98931,     0.98936,     0.98941,     0.98946,     0.98951,\n",
      "            0.98955,      0.9896,     0.98965,      0.9897,     0.98975,      0.9898,     0.98984,     0.98989,     0.98994,     0.98999,     0.99004,     0.99009,     0.99013,     0.99018,     0.99023,     0.99028,     0.99033,     0.99038,     0.99042,     0.99047,     0.99052,     0.99057,     0.99062,\n",
      "            0.99067,     0.99071,     0.99076,     0.99081,     0.99086,     0.99091,     0.99096,       0.991,     0.99105,      0.9911,     0.99115,     0.99114,     0.99112,      0.9911,     0.99109,     0.99107,     0.99106,     0.99104,     0.99103,     0.99101,     0.99099,     0.99098,     0.99096,\n",
      "            0.99095,     0.99093,     0.99092,      0.9909,     0.99088,     0.99087,     0.99085,     0.99084,     0.99082,     0.99081,     0.99079,     0.99077,     0.99076,     0.99074,     0.99073,     0.99071,      0.9907,     0.99068,     0.99066,     0.99065,     0.99063,     0.99062,      0.9906,\n",
      "            0.99059,     0.99057,     0.99056,     0.99054,     0.99052,     0.99051,     0.99049,     0.99048,     0.99046,     0.99045,     0.99043,     0.99041,      0.9904,     0.99038,     0.99037,     0.99035,     0.99034,     0.99032,      0.9903,     0.99029,     0.99027,     0.99026,     0.99024,\n",
      "            0.99023,     0.99021,     0.99019,     0.99018,     0.99016,     0.99015,     0.99013,     0.99012,      0.9901,     0.99008,     0.99007,     0.99005,     0.99004,     0.99002,     0.99001,     0.98999,     0.98997,     0.98996,     0.98994,     0.98993,     0.98991,      0.9899,     0.98988,\n",
      "            0.98986,     0.98985,     0.98983,     0.98982,      0.9898,     0.98979,     0.98977,     0.98975,     0.98974,     0.98972,     0.98971,     0.98969,     0.98968,     0.98966,     0.98964,     0.98963,     0.98961,      0.9896,     0.98958,     0.98957,     0.98955,     0.98953,     0.98952,\n",
      "             0.9895,     0.98949,     0.98947,     0.98946,     0.98944,     0.98942,     0.98941,     0.98939,     0.98938,     0.98936,     0.98935,     0.98933,     0.98931,      0.9893,     0.98928,     0.98927,     0.98925,     0.98924,     0.98922,      0.9892,     0.98919,     0.98917,     0.98916,\n",
      "            0.98914,     0.98913,     0.98911,     0.98909,     0.98908,     0.98906,     0.98905,     0.98903,     0.98902,       0.989,     0.98898,     0.98897,     0.98895,     0.98894,     0.98892,     0.98891,     0.98889,     0.98887,     0.98886,     0.98884,     0.98883,     0.98881,     0.98879,\n",
      "            0.98878,     0.98876,     0.98875,     0.98873,     0.98872,      0.9887,     0.98868,     0.98867,     0.98865,     0.98864,     0.98862,     0.98861,     0.98859,     0.98857,     0.98856,     0.98854,     0.98853,     0.98851,      0.9885,     0.98848,     0.98846,     0.98845,     0.98843,\n",
      "            0.98842,      0.9884,     0.98839,     0.98837,     0.98835,     0.98834,     0.98832,     0.98831,     0.98829,     0.98828,     0.98826,     0.98824,     0.98823,     0.98821,      0.9882,     0.98818,     0.98816,     0.98815,     0.98813,     0.98812,      0.9881,     0.98809,     0.98807,\n",
      "            0.98805,     0.98804,     0.98802,     0.98801,     0.98799,     0.98798,     0.98796,     0.98794,     0.98793,     0.98791,      0.9879,     0.98788,     0.98787,     0.98785,     0.98783,     0.98782,      0.9878,     0.98779,     0.98777,     0.98775,     0.98774,     0.98772,     0.98771,\n",
      "            0.98769,     0.98768,     0.98766,     0.98764,     0.98763,     0.98761,      0.9876,     0.98758,     0.98757,     0.98755,     0.98753,     0.98752,      0.9875,     0.98749,     0.98747,     0.98745,     0.98744,     0.98742,     0.98741,     0.98739,     0.98738,     0.98736,     0.98734,\n",
      "            0.98733,     0.98731,      0.9873,     0.98728,     0.98727,     0.98725,     0.98723,     0.98722,      0.9872,     0.98719,     0.98717,     0.98715,     0.98714,     0.98712,     0.98711,     0.98709,     0.98708,     0.98706,     0.98704,     0.98703,     0.98701,       0.987,     0.98698,\n",
      "            0.98697,     0.98695,     0.98693,     0.98692,      0.9869,     0.98689,     0.98687,     0.98685,     0.98684,     0.98682,     0.98681,     0.98679,     0.98678,     0.98676,     0.98674,     0.98673,     0.98671,      0.9867,     0.98668,     0.98667,     0.98671,     0.98674,     0.98678,\n",
      "            0.98681,     0.98685,     0.98689,     0.98692,     0.98696,     0.98699,     0.98703,     0.98707,      0.9871,     0.98714,     0.98717,     0.98721,     0.98725,     0.98728,     0.98732,     0.98735,     0.98739,     0.98743,     0.98746,      0.9875,     0.98753,     0.98757,     0.98761,\n",
      "            0.98764,     0.98768,     0.98771,     0.98775,     0.98779,     0.98782,     0.98786,     0.98789,     0.98793,     0.98797,       0.988,     0.98804,     0.98807,     0.98811,     0.98815,     0.98818,     0.98822,     0.98825,     0.98829,     0.98833,     0.98836,      0.9884,     0.98843,\n",
      "            0.98847,     0.98851,     0.98854,     0.98858,     0.98861,     0.98865,     0.98869,     0.98872,     0.98876,     0.98879,     0.98883,     0.98886,      0.9889,     0.98894,     0.98897,     0.98901,     0.98904,     0.98908,     0.98912,     0.98915,     0.98919,     0.98922,     0.98926,\n",
      "             0.9893,     0.98933,     0.98937,      0.9894,     0.98944,     0.98947,     0.98951,     0.98955,     0.98958,     0.98962,     0.98965,     0.98969,     0.98973,     0.98976,      0.9898,     0.98983,     0.98987,      0.9899,     0.98994,     0.98998,     0.99001,     0.99005,     0.99008,\n",
      "            0.99012,     0.99016,     0.99019,     0.99023,     0.99026,      0.9903,     0.99033,     0.99037,     0.99041,     0.99044,     0.99048,     0.99051,     0.99055,     0.99058,     0.99062,     0.99066,     0.99069,     0.99073,     0.99076,      0.9908,     0.99084,     0.99087,     0.99091,\n",
      "            0.99094,     0.99098,     0.99101,     0.99105,     0.99106,     0.99102,     0.99098,     0.99095,     0.99091,     0.99087,     0.99084,      0.9908,     0.99076,     0.99072,     0.99069,     0.99065,     0.99061,     0.99058,     0.99054,      0.9905,     0.99047,     0.99043,     0.99039,\n",
      "            0.99036,     0.99032,     0.99028,     0.99024,     0.99021,     0.99017,     0.99013,      0.9901,     0.99006,     0.99002,     0.98999,     0.98995,     0.98991,     0.98987,     0.98984,      0.9898,     0.98976,     0.98973,     0.98969,     0.98965,     0.98962,     0.98958,     0.98954,\n",
      "             0.9895,     0.98947,     0.98943,     0.98939,     0.98936,     0.98932,     0.98928,     0.98925,     0.98921,     0.98917,     0.98913,      0.9891,     0.98906,     0.98902,     0.98899,     0.98895,     0.98891,     0.98888,     0.98884,      0.9888,     0.98876,     0.98873,     0.98869,\n",
      "            0.98865,     0.98862,     0.98858,     0.98854,      0.9885,     0.98847,     0.98843,     0.98839,     0.98836,     0.98832,     0.98828,     0.98824,     0.98821,     0.98817,     0.98813,      0.9881,     0.98806,     0.98802,     0.98798,     0.98795,     0.98791,     0.98787,     0.98784,\n",
      "             0.9878,     0.98776,     0.98772,     0.98769,     0.98765,     0.98761,     0.98758,     0.98754,      0.9875,     0.98746,     0.98743,     0.98739,     0.98735,     0.98732,     0.98728,     0.98724,      0.9872,     0.98717,     0.98713,     0.98709,     0.98706,     0.98702,     0.98698,\n",
      "            0.98694,     0.98691,     0.98687,     0.98683,      0.9868,     0.98676,     0.98672,     0.98668,     0.98665,     0.98661,     0.98657,     0.98625,     0.98537,     0.98448,     0.98358,     0.98269,     0.98193,     0.98166,      0.9814,     0.98113,     0.98086,      0.9806,     0.98033,\n",
      "            0.98007,      0.9798,     0.97953,     0.97927,       0.979,     0.97873,     0.97847,      0.9782,     0.97793,     0.97766,      0.9774,     0.97318,     0.96772,     0.96726,      0.9668,     0.96634,     0.96588,     0.96542,     0.96496,     0.96449,     0.96403,     0.96357,     0.95755,\n",
      "            0.94467,     0.93983,     0.93481,     0.93209,     0.92983,     0.92819,     0.92697,     0.92575,     0.92452,     0.92291,     0.92075,      0.9185,     0.91368,     0.91147,     0.90938,     0.89502,     0.89006,     0.88707,       0.878,     0.86524,     0.85547,     0.84516,     0.83434,\n",
      "            0.82716,      0.8232,     0.81703,     0.80697,     0.80013,     0.78905,     0.77082,      0.7451,     0.74137,     0.73813,     0.72539,     0.68548,     0.66224,     0.64467,     0.61981,     0.60672,      0.5775,     0.57037,     0.53975,     0.51291,     0.48933,     0.47299,     0.43571,\n",
      "            0.39503,      0.3869,     0.36327,     0.30407,     0.29651,     0.29189,     0.26124,     0.24865,      0.2229,     0.20281,      0.1844,     0.14198,     0.12971,     0.12207,     0.11439,     0.10671,    0.094368,    0.080233,    0.073176,    0.063876,    0.040343,    0.033247,    0.031603,\n",
      "           0.029957,    0.028308,    0.026656,    0.025002,    0.023345,    0.021685,    0.020022,    0.018356,           0,           0,           0,           0,           0,           0,           0,           0,           0,           0,           0,           0,           0,           0,           0,\n",
      "                  0,           0,           0,           0,           0,           0,           0,           0,           0,           0,           0,           0,           0,           0,           0,           0,           0,           0,           0,           0,           0,           0,           0,\n",
      "                  0,           0,           0,           0,           0,           0,           0,           0,           0,           0,           0]]), 'Confidence', 'F1'], [array([          0,    0.001001,    0.002002,    0.003003,    0.004004,    0.005005,    0.006006,    0.007007,    0.008008,    0.009009,     0.01001,    0.011011,    0.012012,    0.013013,    0.014014,    0.015015,    0.016016,    0.017017,    0.018018,    0.019019,     0.02002,    0.021021,    0.022022,    0.023023,\n",
      "          0.024024,    0.025025,    0.026026,    0.027027,    0.028028,    0.029029,     0.03003,    0.031031,    0.032032,    0.033033,    0.034034,    0.035035,    0.036036,    0.037037,    0.038038,    0.039039,     0.04004,    0.041041,    0.042042,    0.043043,    0.044044,    0.045045,    0.046046,    0.047047,\n",
      "          0.048048,    0.049049,     0.05005,    0.051051,    0.052052,    0.053053,    0.054054,    0.055055,    0.056056,    0.057057,    0.058058,    0.059059,     0.06006,    0.061061,    0.062062,    0.063063,    0.064064,    0.065065,    0.066066,    0.067067,    0.068068,    0.069069,     0.07007,    0.071071,\n",
      "          0.072072,    0.073073,    0.074074,    0.075075,    0.076076,    0.077077,    0.078078,    0.079079,     0.08008,    0.081081,    0.082082,    0.083083,    0.084084,    0.085085,    0.086086,    0.087087,    0.088088,    0.089089,     0.09009,    0.091091,    0.092092,    0.093093,    0.094094,    0.095095,\n",
      "          0.096096,    0.097097,    0.098098,    0.099099,      0.1001,      0.1011,      0.1021,      0.1031,      0.1041,     0.10511,     0.10611,     0.10711,     0.10811,     0.10911,     0.11011,     0.11111,     0.11211,     0.11311,     0.11411,     0.11512,     0.11612,     0.11712,     0.11812,     0.11912,\n",
      "           0.12012,     0.12112,     0.12212,     0.12312,     0.12412,     0.12513,     0.12613,     0.12713,     0.12813,     0.12913,     0.13013,     0.13113,     0.13213,     0.13313,     0.13413,     0.13514,     0.13614,     0.13714,     0.13814,     0.13914,     0.14014,     0.14114,     0.14214,     0.14314,\n",
      "           0.14414,     0.14515,     0.14615,     0.14715,     0.14815,     0.14915,     0.15015,     0.15115,     0.15215,     0.15315,     0.15415,     0.15516,     0.15616,     0.15716,     0.15816,     0.15916,     0.16016,     0.16116,     0.16216,     0.16316,     0.16416,     0.16517,     0.16617,     0.16717,\n",
      "           0.16817,     0.16917,     0.17017,     0.17117,     0.17217,     0.17317,     0.17417,     0.17518,     0.17618,     0.17718,     0.17818,     0.17918,     0.18018,     0.18118,     0.18218,     0.18318,     0.18418,     0.18519,     0.18619,     0.18719,     0.18819,     0.18919,     0.19019,     0.19119,\n",
      "           0.19219,     0.19319,     0.19419,      0.1952,      0.1962,      0.1972,      0.1982,      0.1992,      0.2002,      0.2012,      0.2022,      0.2032,      0.2042,     0.20521,     0.20621,     0.20721,     0.20821,     0.20921,     0.21021,     0.21121,     0.21221,     0.21321,     0.21421,     0.21522,\n",
      "           0.21622,     0.21722,     0.21822,     0.21922,     0.22022,     0.22122,     0.22222,     0.22322,     0.22422,     0.22523,     0.22623,     0.22723,     0.22823,     0.22923,     0.23023,     0.23123,     0.23223,     0.23323,     0.23423,     0.23524,     0.23624,     0.23724,     0.23824,     0.23924,\n",
      "           0.24024,     0.24124,     0.24224,     0.24324,     0.24424,     0.24525,     0.24625,     0.24725,     0.24825,     0.24925,     0.25025,     0.25125,     0.25225,     0.25325,     0.25425,     0.25526,     0.25626,     0.25726,     0.25826,     0.25926,     0.26026,     0.26126,     0.26226,     0.26326,\n",
      "           0.26426,     0.26527,     0.26627,     0.26727,     0.26827,     0.26927,     0.27027,     0.27127,     0.27227,     0.27327,     0.27427,     0.27528,     0.27628,     0.27728,     0.27828,     0.27928,     0.28028,     0.28128,     0.28228,     0.28328,     0.28428,     0.28529,     0.28629,     0.28729,\n",
      "           0.28829,     0.28929,     0.29029,     0.29129,     0.29229,     0.29329,     0.29429,      0.2953,      0.2963,      0.2973,      0.2983,      0.2993,      0.3003,      0.3013,      0.3023,      0.3033,      0.3043,     0.30531,     0.30631,     0.30731,     0.30831,     0.30931,     0.31031,     0.31131,\n",
      "           0.31231,     0.31331,     0.31431,     0.31532,     0.31632,     0.31732,     0.31832,     0.31932,     0.32032,     0.32132,     0.32232,     0.32332,     0.32432,     0.32533,     0.32633,     0.32733,     0.32833,     0.32933,     0.33033,     0.33133,     0.33233,     0.33333,     0.33433,     0.33534,\n",
      "           0.33634,     0.33734,     0.33834,     0.33934,     0.34034,     0.34134,     0.34234,     0.34334,     0.34434,     0.34535,     0.34635,     0.34735,     0.34835,     0.34935,     0.35035,     0.35135,     0.35235,     0.35335,     0.35435,     0.35536,     0.35636,     0.35736,     0.35836,     0.35936,\n",
      "           0.36036,     0.36136,     0.36236,     0.36336,     0.36436,     0.36537,     0.36637,     0.36737,     0.36837,     0.36937,     0.37037,     0.37137,     0.37237,     0.37337,     0.37437,     0.37538,     0.37638,     0.37738,     0.37838,     0.37938,     0.38038,     0.38138,     0.38238,     0.38338,\n",
      "           0.38438,     0.38539,     0.38639,     0.38739,     0.38839,     0.38939,     0.39039,     0.39139,     0.39239,     0.39339,     0.39439,      0.3954,      0.3964,      0.3974,      0.3984,      0.3994,      0.4004,      0.4014,      0.4024,      0.4034,      0.4044,     0.40541,     0.40641,     0.40741,\n",
      "           0.40841,     0.40941,     0.41041,     0.41141,     0.41241,     0.41341,     0.41441,     0.41542,     0.41642,     0.41742,     0.41842,     0.41942,     0.42042,     0.42142,     0.42242,     0.42342,     0.42442,     0.42543,     0.42643,     0.42743,     0.42843,     0.42943,     0.43043,     0.43143,\n",
      "           0.43243,     0.43343,     0.43443,     0.43544,     0.43644,     0.43744,     0.43844,     0.43944,     0.44044,     0.44144,     0.44244,     0.44344,     0.44444,     0.44545,     0.44645,     0.44745,     0.44845,     0.44945,     0.45045,     0.45145,     0.45245,     0.45345,     0.45445,     0.45546,\n",
      "           0.45646,     0.45746,     0.45846,     0.45946,     0.46046,     0.46146,     0.46246,     0.46346,     0.46446,     0.46547,     0.46647,     0.46747,     0.46847,     0.46947,     0.47047,     0.47147,     0.47247,     0.47347,     0.47447,     0.47548,     0.47648,     0.47748,     0.47848,     0.47948,\n",
      "           0.48048,     0.48148,     0.48248,     0.48348,     0.48448,     0.48549,     0.48649,     0.48749,     0.48849,     0.48949,     0.49049,     0.49149,     0.49249,     0.49349,     0.49449,      0.4955,      0.4965,      0.4975,      0.4985,      0.4995,      0.5005,      0.5015,      0.5025,      0.5035,\n",
      "            0.5045,     0.50551,     0.50651,     0.50751,     0.50851,     0.50951,     0.51051,     0.51151,     0.51251,     0.51351,     0.51451,     0.51552,     0.51652,     0.51752,     0.51852,     0.51952,     0.52052,     0.52152,     0.52252,     0.52352,     0.52452,     0.52553,     0.52653,     0.52753,\n",
      "           0.52853,     0.52953,     0.53053,     0.53153,     0.53253,     0.53353,     0.53453,     0.53554,     0.53654,     0.53754,     0.53854,     0.53954,     0.54054,     0.54154,     0.54254,     0.54354,     0.54454,     0.54555,     0.54655,     0.54755,     0.54855,     0.54955,     0.55055,     0.55155,\n",
      "           0.55255,     0.55355,     0.55455,     0.55556,     0.55656,     0.55756,     0.55856,     0.55956,     0.56056,     0.56156,     0.56256,     0.56356,     0.56456,     0.56557,     0.56657,     0.56757,     0.56857,     0.56957,     0.57057,     0.57157,     0.57257,     0.57357,     0.57457,     0.57558,\n",
      "           0.57658,     0.57758,     0.57858,     0.57958,     0.58058,     0.58158,     0.58258,     0.58358,     0.58458,     0.58559,     0.58659,     0.58759,     0.58859,     0.58959,     0.59059,     0.59159,     0.59259,     0.59359,     0.59459,      0.5956,      0.5966,      0.5976,      0.5986,      0.5996,\n",
      "            0.6006,      0.6016,      0.6026,      0.6036,      0.6046,     0.60561,     0.60661,     0.60761,     0.60861,     0.60961,     0.61061,     0.61161,     0.61261,     0.61361,     0.61461,     0.61562,     0.61662,     0.61762,     0.61862,     0.61962,     0.62062,     0.62162,     0.62262,     0.62362,\n",
      "           0.62462,     0.62563,     0.62663,     0.62763,     0.62863,     0.62963,     0.63063,     0.63163,     0.63263,     0.63363,     0.63463,     0.63564,     0.63664,     0.63764,     0.63864,     0.63964,     0.64064,     0.64164,     0.64264,     0.64364,     0.64464,     0.64565,     0.64665,     0.64765,\n",
      "           0.64865,     0.64965,     0.65065,     0.65165,     0.65265,     0.65365,     0.65465,     0.65566,     0.65666,     0.65766,     0.65866,     0.65966,     0.66066,     0.66166,     0.66266,     0.66366,     0.66466,     0.66567,     0.66667,     0.66767,     0.66867,     0.66967,     0.67067,     0.67167,\n",
      "           0.67267,     0.67367,     0.67467,     0.67568,     0.67668,     0.67768,     0.67868,     0.67968,     0.68068,     0.68168,     0.68268,     0.68368,     0.68468,     0.68569,     0.68669,     0.68769,     0.68869,     0.68969,     0.69069,     0.69169,     0.69269,     0.69369,     0.69469,      0.6957,\n",
      "            0.6967,      0.6977,      0.6987,      0.6997,      0.7007,      0.7017,      0.7027,      0.7037,      0.7047,     0.70571,     0.70671,     0.70771,     0.70871,     0.70971,     0.71071,     0.71171,     0.71271,     0.71371,     0.71471,     0.71572,     0.71672,     0.71772,     0.71872,     0.71972,\n",
      "           0.72072,     0.72172,     0.72272,     0.72372,     0.72472,     0.72573,     0.72673,     0.72773,     0.72873,     0.72973,     0.73073,     0.73173,     0.73273,     0.73373,     0.73473,     0.73574,     0.73674,     0.73774,     0.73874,     0.73974,     0.74074,     0.74174,     0.74274,     0.74374,\n",
      "           0.74474,     0.74575,     0.74675,     0.74775,     0.74875,     0.74975,     0.75075,     0.75175,     0.75275,     0.75375,     0.75475,     0.75576,     0.75676,     0.75776,     0.75876,     0.75976,     0.76076,     0.76176,     0.76276,     0.76376,     0.76476,     0.76577,     0.76677,     0.76777,\n",
      "           0.76877,     0.76977,     0.77077,     0.77177,     0.77277,     0.77377,     0.77477,     0.77578,     0.77678,     0.77778,     0.77878,     0.77978,     0.78078,     0.78178,     0.78278,     0.78378,     0.78478,     0.78579,     0.78679,     0.78779,     0.78879,     0.78979,     0.79079,     0.79179,\n",
      "           0.79279,     0.79379,     0.79479,      0.7958,      0.7968,      0.7978,      0.7988,      0.7998,      0.8008,      0.8018,      0.8028,      0.8038,      0.8048,     0.80581,     0.80681,     0.80781,     0.80881,     0.80981,     0.81081,     0.81181,     0.81281,     0.81381,     0.81481,     0.81582,\n",
      "           0.81682,     0.81782,     0.81882,     0.81982,     0.82082,     0.82182,     0.82282,     0.82382,     0.82482,     0.82583,     0.82683,     0.82783,     0.82883,     0.82983,     0.83083,     0.83183,     0.83283,     0.83383,     0.83483,     0.83584,     0.83684,     0.83784,     0.83884,     0.83984,\n",
      "           0.84084,     0.84184,     0.84284,     0.84384,     0.84484,     0.84585,     0.84685,     0.84785,     0.84885,     0.84985,     0.85085,     0.85185,     0.85285,     0.85385,     0.85485,     0.85586,     0.85686,     0.85786,     0.85886,     0.85986,     0.86086,     0.86186,     0.86286,     0.86386,\n",
      "           0.86486,     0.86587,     0.86687,     0.86787,     0.86887,     0.86987,     0.87087,     0.87187,     0.87287,     0.87387,     0.87487,     0.87588,     0.87688,     0.87788,     0.87888,     0.87988,     0.88088,     0.88188,     0.88288,     0.88388,     0.88488,     0.88589,     0.88689,     0.88789,\n",
      "           0.88889,     0.88989,     0.89089,     0.89189,     0.89289,     0.89389,     0.89489,      0.8959,      0.8969,      0.8979,      0.8989,      0.8999,      0.9009,      0.9019,      0.9029,      0.9039,      0.9049,     0.90591,     0.90691,     0.90791,     0.90891,     0.90991,     0.91091,     0.91191,\n",
      "           0.91291,     0.91391,     0.91491,     0.91592,     0.91692,     0.91792,     0.91892,     0.91992,     0.92092,     0.92192,     0.92292,     0.92392,     0.92492,     0.92593,     0.92693,     0.92793,     0.92893,     0.92993,     0.93093,     0.93193,     0.93293,     0.93393,     0.93493,     0.93594,\n",
      "           0.93694,     0.93794,     0.93894,     0.93994,     0.94094,     0.94194,     0.94294,     0.94394,     0.94494,     0.94595,     0.94695,     0.94795,     0.94895,     0.94995,     0.95095,     0.95195,     0.95295,     0.95395,     0.95495,     0.95596,     0.95696,     0.95796,     0.95896,     0.95996,\n",
      "           0.96096,     0.96196,     0.96296,     0.96396,     0.96496,     0.96597,     0.96697,     0.96797,     0.96897,     0.96997,     0.97097,     0.97197,     0.97297,     0.97397,     0.97497,     0.97598,     0.97698,     0.97798,     0.97898,     0.97998,     0.98098,     0.98198,     0.98298,     0.98398,\n",
      "           0.98498,     0.98599,     0.98699,     0.98799,     0.98899,     0.98999,     0.99099,     0.99199,     0.99299,     0.99399,     0.99499,       0.996,       0.997,       0.998,       0.999,           1]), array([[    0.73377,     0.73377,     0.79889,     0.86405,     0.89434,     0.90538,     0.90759,     0.90981,     0.92258,     0.93258,     0.93654,     0.93968,     0.94364,     0.94905,     0.94945,     0.94931,     0.94917,      0.9521,     0.95553,     0.95744,      0.9578,     0.95815,     0.95851,\n",
      "            0.95887,     0.95922,     0.95958,     0.95994,     0.96029,     0.96065,     0.96101,     0.96136,     0.96172,     0.96208,     0.96243,     0.96279,     0.96315,      0.9635,     0.96386,     0.96422,     0.96457,     0.96493,     0.96529,     0.96572,     0.96629,     0.96685,     0.96742,\n",
      "            0.96798,     0.96855,     0.96912,     0.96968,     0.97025,     0.97081,     0.97138,     0.97194,     0.97251,     0.97308,     0.97364,     0.97394,     0.97399,     0.97405,      0.9741,     0.97415,      0.9742,     0.97426,     0.97431,     0.97436,     0.97441,     0.97447,     0.97452,\n",
      "            0.97457,     0.97462,     0.97468,     0.97473,     0.97478,     0.97483,     0.97489,     0.97494,     0.97499,     0.97504,      0.9751,     0.97515,      0.9752,     0.97526,     0.97531,     0.97536,     0.97541,     0.97547,     0.97552,     0.97557,     0.97562,     0.97568,     0.97573,\n",
      "            0.97578,     0.97583,     0.97589,     0.97594,     0.97599,     0.97604,      0.9761,     0.97615,      0.9762,     0.97625,     0.97631,     0.97636,     0.97641,     0.97646,     0.97652,     0.97657,     0.97662,     0.97667,     0.97673,     0.97678,     0.97683,     0.97689,     0.97694,\n",
      "            0.97699,     0.97704,      0.9771,     0.97715,      0.9772,     0.97725,     0.97731,     0.97736,     0.97741,     0.97746,     0.97752,     0.97757,     0.97762,     0.97767,     0.97773,     0.97778,     0.97783,     0.97788,     0.97794,     0.97799,     0.97804,     0.97809,     0.97815,\n",
      "             0.9782,     0.97825,      0.9783,     0.97836,     0.97841,     0.97846,     0.97852,     0.97857,     0.97862,     0.97867,     0.97873,     0.97878,     0.97883,     0.97888,     0.97894,     0.97899,     0.97904,     0.97909,     0.97915,      0.9792,     0.97925,      0.9793,     0.97936,\n",
      "            0.97941,     0.97946,     0.97951,     0.97957,     0.97962,     0.97967,     0.97972,     0.97978,     0.97983,     0.97988,     0.97993,     0.97999,     0.98004,     0.98009,     0.98015,      0.9802,     0.98025,      0.9803,     0.98036,     0.98041,     0.98046,     0.98051,     0.98057,\n",
      "            0.98062,     0.98067,     0.98072,     0.98078,     0.98083,     0.98088,     0.98093,     0.98099,     0.98104,     0.98109,     0.98114,      0.9812,     0.98125,      0.9813,     0.98135,     0.98141,     0.98146,     0.98151,     0.98156,     0.98162,     0.98167,     0.98172,     0.98178,\n",
      "            0.98183,     0.98188,     0.98193,     0.98199,     0.98204,     0.98209,     0.98214,      0.9822,     0.98225,      0.9823,     0.98235,     0.98241,     0.98246,     0.98256,     0.98265,     0.98275,     0.98285,     0.98294,     0.98304,     0.98314,     0.98323,     0.98333,     0.98343,\n",
      "            0.98352,     0.98362,     0.98372,     0.98381,     0.98391,     0.98401,      0.9841,      0.9842,     0.98429,     0.98439,     0.98449,     0.98458,     0.98468,     0.98478,     0.98487,     0.98497,     0.98507,     0.98516,     0.98526,     0.98536,     0.98545,     0.98555,     0.98565,\n",
      "            0.98574,     0.98584,     0.98594,     0.98603,     0.98613,     0.98622,     0.98632,     0.98642,     0.98651,     0.98661,     0.98671,      0.9868,      0.9869,       0.987,     0.98709,     0.98719,     0.98729,     0.98738,     0.98748,     0.98758,     0.98767,     0.98777,     0.98787,\n",
      "            0.98796,     0.98806,     0.98816,     0.98825,     0.98835,     0.98844,     0.98854,     0.98864,     0.98873,     0.98883,     0.98893,     0.98902,     0.98912,     0.98922,     0.98931,     0.98941,     0.98951,      0.9896,      0.9897,      0.9898,     0.98989,     0.98999,     0.99009,\n",
      "            0.99018,     0.99028,     0.99037,     0.99047,     0.99057,     0.99066,     0.99076,     0.99086,     0.99095,     0.99105,     0.99115,     0.99115,     0.99115,     0.99115,     0.99115,     0.99115,     0.99115,     0.99115,     0.99115,     0.99115,     0.99115,     0.99115,     0.99115,\n",
      "            0.99115,     0.99115,     0.99115,     0.99115,     0.99115,     0.99115,     0.99115,     0.99114,     0.99114,     0.99114,     0.99114,     0.99114,     0.99114,     0.99114,     0.99114,     0.99114,     0.99114,     0.99114,     0.99114,     0.99114,     0.99114,     0.99114,     0.99114,\n",
      "            0.99114,     0.99114,     0.99114,     0.99114,     0.99114,     0.99114,     0.99114,     0.99114,     0.99114,     0.99114,     0.99114,     0.99114,     0.99114,     0.99114,     0.99114,     0.99114,     0.99114,     0.99114,     0.99114,     0.99114,     0.99113,     0.99113,     0.99113,\n",
      "            0.99113,     0.99113,     0.99113,     0.99113,     0.99113,     0.99113,     0.99113,     0.99113,     0.99113,     0.99113,     0.99113,     0.99113,     0.99113,     0.99113,     0.99113,     0.99113,     0.99113,     0.99113,     0.99113,     0.99113,     0.99113,     0.99113,     0.99113,\n",
      "            0.99113,     0.99113,     0.99113,     0.99113,     0.99113,     0.99113,     0.99113,     0.99113,     0.99113,     0.99113,     0.99112,     0.99112,     0.99112,     0.99112,     0.99112,     0.99112,     0.99112,     0.99112,     0.99112,     0.99112,     0.99112,     0.99112,     0.99112,\n",
      "            0.99112,     0.99112,     0.99112,     0.99112,     0.99112,     0.99112,     0.99112,     0.99112,     0.99112,     0.99112,     0.99112,     0.99112,     0.99112,     0.99112,     0.99112,     0.99112,     0.99112,     0.99112,     0.99112,     0.99112,     0.99112,     0.99112,     0.99112,\n",
      "            0.99111,     0.99111,     0.99111,     0.99111,     0.99111,     0.99111,     0.99111,     0.99111,     0.99111,     0.99111,     0.99111,     0.99111,     0.99111,     0.99111,     0.99111,     0.99111,     0.99111,     0.99111,     0.99111,     0.99111,     0.99111,     0.99111,     0.99111,\n",
      "            0.99111,     0.99111,     0.99111,     0.99111,     0.99111,     0.99111,     0.99111,     0.99111,     0.99111,     0.99111,     0.99111,     0.99111,     0.99111,      0.9911,      0.9911,      0.9911,      0.9911,      0.9911,      0.9911,      0.9911,      0.9911,      0.9911,      0.9911,\n",
      "             0.9911,      0.9911,      0.9911,      0.9911,      0.9911,      0.9911,      0.9911,      0.9911,      0.9911,      0.9911,      0.9911,      0.9911,      0.9911,      0.9911,      0.9911,      0.9911,      0.9911,      0.9911,      0.9911,      0.9911,      0.9911,      0.9911,      0.9911,\n",
      "             0.9911,      0.9911,      0.9911,     0.99109,     0.99109,     0.99109,     0.99109,     0.99109,     0.99109,     0.99109,     0.99109,     0.99109,     0.99109,     0.99109,     0.99109,     0.99109,     0.99109,     0.99109,     0.99109,     0.99109,     0.99109,     0.99109,     0.99109,\n",
      "            0.99109,     0.99109,     0.99109,     0.99109,     0.99109,     0.99109,     0.99109,     0.99109,     0.99109,     0.99109,     0.99109,     0.99109,     0.99109,     0.99109,     0.99109,     0.99109,     0.99108,     0.99108,     0.99108,     0.99108,     0.99108,     0.99108,     0.99108,\n",
      "            0.99108,     0.99108,     0.99108,     0.99108,     0.99108,     0.99108,     0.99108,     0.99108,     0.99108,     0.99108,     0.99108,     0.99108,     0.99108,     0.99108,     0.99108,     0.99108,     0.99108,     0.99108,     0.99108,     0.99108,     0.99108,     0.99108,     0.99108,\n",
      "            0.99108,     0.99108,     0.99108,     0.99108,     0.99108,     0.99108,     0.99108,     0.99107,     0.99107,     0.99107,     0.99107,     0.99107,     0.99107,     0.99107,     0.99107,     0.99107,     0.99107,     0.99107,     0.99107,     0.99108,     0.99115,     0.99122,      0.9913,\n",
      "            0.99137,     0.99144,     0.99152,     0.99159,     0.99166,     0.99173,     0.99181,     0.99188,     0.99195,     0.99202,      0.9921,     0.99217,     0.99224,     0.99232,     0.99239,     0.99246,     0.99253,     0.99261,     0.99268,     0.99275,     0.99283,      0.9929,     0.99297,\n",
      "            0.99304,     0.99312,     0.99319,     0.99326,     0.99333,     0.99341,     0.99348,     0.99355,     0.99363,      0.9937,     0.99377,     0.99384,     0.99392,     0.99399,     0.99406,     0.99413,     0.99421,     0.99428,     0.99435,     0.99443,      0.9945,     0.99457,     0.99464,\n",
      "            0.99472,     0.99479,     0.99486,     0.99494,     0.99501,     0.99508,     0.99515,     0.99523,      0.9953,     0.99537,     0.99544,     0.99552,     0.99559,     0.99566,     0.99574,     0.99581,     0.99588,     0.99595,     0.99603,      0.9961,     0.99617,     0.99624,     0.99632,\n",
      "            0.99639,     0.99646,     0.99654,     0.99661,     0.99668,     0.99675,     0.99683,      0.9969,     0.99697,     0.99705,     0.99712,     0.99719,     0.99726,     0.99734,     0.99741,     0.99748,     0.99755,     0.99763,      0.9977,     0.99777,     0.99785,     0.99792,     0.99799,\n",
      "            0.99806,     0.99814,     0.99821,     0.99828,     0.99835,     0.99843,      0.9985,     0.99857,     0.99865,     0.99872,     0.99879,     0.99886,     0.99894,     0.99901,     0.99908,     0.99916,     0.99923,      0.9993,     0.99937,     0.99945,     0.99952,     0.99959,     0.99966,\n",
      "            0.99974,     0.99981,     0.99988,     0.99996,           1,           1,           1,           1,           1,           1,           1,           1,           1,           1,           1,           1,           1,           1,           1,           1,           1,           1,           1,\n",
      "                  1,           1,           1,           1,           1,           1,           1,           1,           1,           1,           1,           1,           1,           1,           1,           1,           1,           1,           1,           1,           1,           1,           1,\n",
      "                  1,           1,           1,           1,           1,           1,           1,           1,           1,           1,           1,           1,           1,           1,           1,           1,           1,           1,           1,           1,           1,           1,           1,\n",
      "                  1,           1,           1,           1,           1,           1,           1,           1,           1,           1,           1,           1,           1,           1,           1,           1,           1,           1,           1,           1,           1,           1,           1,\n",
      "                  1,           1,           1,           1,           1,           1,           1,           1,           1,           1,           1,           1,           1,           1,           1,           1,           1,           1,           1,           1,           1,           1,           1,\n",
      "                  1,           1,           1,           1,           1,           1,           1,           1,           1,           1,           1,           1,           1,           1,           1,           1,           1,           1,           1,           1,           1,           1,           1,\n",
      "                  1,           1,           1,           1,           1,           1,           1,           1,           1,           1,           1,           1,           1,           1,           1,           1,           1,           1,           1,           1,           1,           1,           1,\n",
      "                  1,           1,           1,           1,           1,           1,           1,           1,           1,           1,           1,           1,           1,           1,           1,           1,           1,           1,           1,           1,           1,           1,           1,\n",
      "                  1,           1,           1,           1,           1,           1,           1,           1,           1,           1,           1,           1,           1,           1,           1,           1,           1,           1,           1,           1,           1,           1,           1,\n",
      "                  1,           1,           1,           1,           1,           1,           1,           1,           1,           1,           1,           1,           1,           1,           1,           1,           1,           1,           1,           1,           1,           1,           1,\n",
      "                  1,           1,           1,           1,           1,           1,           1,           1,           1,           1,           1,           1,           1,           1,           1,           1,           1,           1,           1,           1,           1,           1,           1,\n",
      "                  1,           1,           1,           1,           1,           1,           1,           1,           1,           1,           1,           1,           1,           1,           1,           1,           1,           1,           1,           1,           1,           1,           1,\n",
      "                  1,           1,           1,           1,           1,           1,           1,           1,           1,           1,           1]]), 'Confidence', 'Precision'], [array([          0,    0.001001,    0.002002,    0.003003,    0.004004,    0.005005,    0.006006,    0.007007,    0.008008,    0.009009,     0.01001,    0.011011,    0.012012,    0.013013,    0.014014,    0.015015,    0.016016,    0.017017,    0.018018,    0.019019,     0.02002,    0.021021,    0.022022,    0.023023,\n",
      "          0.024024,    0.025025,    0.026026,    0.027027,    0.028028,    0.029029,     0.03003,    0.031031,    0.032032,    0.033033,    0.034034,    0.035035,    0.036036,    0.037037,    0.038038,    0.039039,     0.04004,    0.041041,    0.042042,    0.043043,    0.044044,    0.045045,    0.046046,    0.047047,\n",
      "          0.048048,    0.049049,     0.05005,    0.051051,    0.052052,    0.053053,    0.054054,    0.055055,    0.056056,    0.057057,    0.058058,    0.059059,     0.06006,    0.061061,    0.062062,    0.063063,    0.064064,    0.065065,    0.066066,    0.067067,    0.068068,    0.069069,     0.07007,    0.071071,\n",
      "          0.072072,    0.073073,    0.074074,    0.075075,    0.076076,    0.077077,    0.078078,    0.079079,     0.08008,    0.081081,    0.082082,    0.083083,    0.084084,    0.085085,    0.086086,    0.087087,    0.088088,    0.089089,     0.09009,    0.091091,    0.092092,    0.093093,    0.094094,    0.095095,\n",
      "          0.096096,    0.097097,    0.098098,    0.099099,      0.1001,      0.1011,      0.1021,      0.1031,      0.1041,     0.10511,     0.10611,     0.10711,     0.10811,     0.10911,     0.11011,     0.11111,     0.11211,     0.11311,     0.11411,     0.11512,     0.11612,     0.11712,     0.11812,     0.11912,\n",
      "           0.12012,     0.12112,     0.12212,     0.12312,     0.12412,     0.12513,     0.12613,     0.12713,     0.12813,     0.12913,     0.13013,     0.13113,     0.13213,     0.13313,     0.13413,     0.13514,     0.13614,     0.13714,     0.13814,     0.13914,     0.14014,     0.14114,     0.14214,     0.14314,\n",
      "           0.14414,     0.14515,     0.14615,     0.14715,     0.14815,     0.14915,     0.15015,     0.15115,     0.15215,     0.15315,     0.15415,     0.15516,     0.15616,     0.15716,     0.15816,     0.15916,     0.16016,     0.16116,     0.16216,     0.16316,     0.16416,     0.16517,     0.16617,     0.16717,\n",
      "           0.16817,     0.16917,     0.17017,     0.17117,     0.17217,     0.17317,     0.17417,     0.17518,     0.17618,     0.17718,     0.17818,     0.17918,     0.18018,     0.18118,     0.18218,     0.18318,     0.18418,     0.18519,     0.18619,     0.18719,     0.18819,     0.18919,     0.19019,     0.19119,\n",
      "           0.19219,     0.19319,     0.19419,      0.1952,      0.1962,      0.1972,      0.1982,      0.1992,      0.2002,      0.2012,      0.2022,      0.2032,      0.2042,     0.20521,     0.20621,     0.20721,     0.20821,     0.20921,     0.21021,     0.21121,     0.21221,     0.21321,     0.21421,     0.21522,\n",
      "           0.21622,     0.21722,     0.21822,     0.21922,     0.22022,     0.22122,     0.22222,     0.22322,     0.22422,     0.22523,     0.22623,     0.22723,     0.22823,     0.22923,     0.23023,     0.23123,     0.23223,     0.23323,     0.23423,     0.23524,     0.23624,     0.23724,     0.23824,     0.23924,\n",
      "           0.24024,     0.24124,     0.24224,     0.24324,     0.24424,     0.24525,     0.24625,     0.24725,     0.24825,     0.24925,     0.25025,     0.25125,     0.25225,     0.25325,     0.25425,     0.25526,     0.25626,     0.25726,     0.25826,     0.25926,     0.26026,     0.26126,     0.26226,     0.26326,\n",
      "           0.26426,     0.26527,     0.26627,     0.26727,     0.26827,     0.26927,     0.27027,     0.27127,     0.27227,     0.27327,     0.27427,     0.27528,     0.27628,     0.27728,     0.27828,     0.27928,     0.28028,     0.28128,     0.28228,     0.28328,     0.28428,     0.28529,     0.28629,     0.28729,\n",
      "           0.28829,     0.28929,     0.29029,     0.29129,     0.29229,     0.29329,     0.29429,      0.2953,      0.2963,      0.2973,      0.2983,      0.2993,      0.3003,      0.3013,      0.3023,      0.3033,      0.3043,     0.30531,     0.30631,     0.30731,     0.30831,     0.30931,     0.31031,     0.31131,\n",
      "           0.31231,     0.31331,     0.31431,     0.31532,     0.31632,     0.31732,     0.31832,     0.31932,     0.32032,     0.32132,     0.32232,     0.32332,     0.32432,     0.32533,     0.32633,     0.32733,     0.32833,     0.32933,     0.33033,     0.33133,     0.33233,     0.33333,     0.33433,     0.33534,\n",
      "           0.33634,     0.33734,     0.33834,     0.33934,     0.34034,     0.34134,     0.34234,     0.34334,     0.34434,     0.34535,     0.34635,     0.34735,     0.34835,     0.34935,     0.35035,     0.35135,     0.35235,     0.35335,     0.35435,     0.35536,     0.35636,     0.35736,     0.35836,     0.35936,\n",
      "           0.36036,     0.36136,     0.36236,     0.36336,     0.36436,     0.36537,     0.36637,     0.36737,     0.36837,     0.36937,     0.37037,     0.37137,     0.37237,     0.37337,     0.37437,     0.37538,     0.37638,     0.37738,     0.37838,     0.37938,     0.38038,     0.38138,     0.38238,     0.38338,\n",
      "           0.38438,     0.38539,     0.38639,     0.38739,     0.38839,     0.38939,     0.39039,     0.39139,     0.39239,     0.39339,     0.39439,      0.3954,      0.3964,      0.3974,      0.3984,      0.3994,      0.4004,      0.4014,      0.4024,      0.4034,      0.4044,     0.40541,     0.40641,     0.40741,\n",
      "           0.40841,     0.40941,     0.41041,     0.41141,     0.41241,     0.41341,     0.41441,     0.41542,     0.41642,     0.41742,     0.41842,     0.41942,     0.42042,     0.42142,     0.42242,     0.42342,     0.42442,     0.42543,     0.42643,     0.42743,     0.42843,     0.42943,     0.43043,     0.43143,\n",
      "           0.43243,     0.43343,     0.43443,     0.43544,     0.43644,     0.43744,     0.43844,     0.43944,     0.44044,     0.44144,     0.44244,     0.44344,     0.44444,     0.44545,     0.44645,     0.44745,     0.44845,     0.44945,     0.45045,     0.45145,     0.45245,     0.45345,     0.45445,     0.45546,\n",
      "           0.45646,     0.45746,     0.45846,     0.45946,     0.46046,     0.46146,     0.46246,     0.46346,     0.46446,     0.46547,     0.46647,     0.46747,     0.46847,     0.46947,     0.47047,     0.47147,     0.47247,     0.47347,     0.47447,     0.47548,     0.47648,     0.47748,     0.47848,     0.47948,\n",
      "           0.48048,     0.48148,     0.48248,     0.48348,     0.48448,     0.48549,     0.48649,     0.48749,     0.48849,     0.48949,     0.49049,     0.49149,     0.49249,     0.49349,     0.49449,      0.4955,      0.4965,      0.4975,      0.4985,      0.4995,      0.5005,      0.5015,      0.5025,      0.5035,\n",
      "            0.5045,     0.50551,     0.50651,     0.50751,     0.50851,     0.50951,     0.51051,     0.51151,     0.51251,     0.51351,     0.51451,     0.51552,     0.51652,     0.51752,     0.51852,     0.51952,     0.52052,     0.52152,     0.52252,     0.52352,     0.52452,     0.52553,     0.52653,     0.52753,\n",
      "           0.52853,     0.52953,     0.53053,     0.53153,     0.53253,     0.53353,     0.53453,     0.53554,     0.53654,     0.53754,     0.53854,     0.53954,     0.54054,     0.54154,     0.54254,     0.54354,     0.54454,     0.54555,     0.54655,     0.54755,     0.54855,     0.54955,     0.55055,     0.55155,\n",
      "           0.55255,     0.55355,     0.55455,     0.55556,     0.55656,     0.55756,     0.55856,     0.55956,     0.56056,     0.56156,     0.56256,     0.56356,     0.56456,     0.56557,     0.56657,     0.56757,     0.56857,     0.56957,     0.57057,     0.57157,     0.57257,     0.57357,     0.57457,     0.57558,\n",
      "           0.57658,     0.57758,     0.57858,     0.57958,     0.58058,     0.58158,     0.58258,     0.58358,     0.58458,     0.58559,     0.58659,     0.58759,     0.58859,     0.58959,     0.59059,     0.59159,     0.59259,     0.59359,     0.59459,      0.5956,      0.5966,      0.5976,      0.5986,      0.5996,\n",
      "            0.6006,      0.6016,      0.6026,      0.6036,      0.6046,     0.60561,     0.60661,     0.60761,     0.60861,     0.60961,     0.61061,     0.61161,     0.61261,     0.61361,     0.61461,     0.61562,     0.61662,     0.61762,     0.61862,     0.61962,     0.62062,     0.62162,     0.62262,     0.62362,\n",
      "           0.62462,     0.62563,     0.62663,     0.62763,     0.62863,     0.62963,     0.63063,     0.63163,     0.63263,     0.63363,     0.63463,     0.63564,     0.63664,     0.63764,     0.63864,     0.63964,     0.64064,     0.64164,     0.64264,     0.64364,     0.64464,     0.64565,     0.64665,     0.64765,\n",
      "           0.64865,     0.64965,     0.65065,     0.65165,     0.65265,     0.65365,     0.65465,     0.65566,     0.65666,     0.65766,     0.65866,     0.65966,     0.66066,     0.66166,     0.66266,     0.66366,     0.66466,     0.66567,     0.66667,     0.66767,     0.66867,     0.66967,     0.67067,     0.67167,\n",
      "           0.67267,     0.67367,     0.67467,     0.67568,     0.67668,     0.67768,     0.67868,     0.67968,     0.68068,     0.68168,     0.68268,     0.68368,     0.68468,     0.68569,     0.68669,     0.68769,     0.68869,     0.68969,     0.69069,     0.69169,     0.69269,     0.69369,     0.69469,      0.6957,\n",
      "            0.6967,      0.6977,      0.6987,      0.6997,      0.7007,      0.7017,      0.7027,      0.7037,      0.7047,     0.70571,     0.70671,     0.70771,     0.70871,     0.70971,     0.71071,     0.71171,     0.71271,     0.71371,     0.71471,     0.71572,     0.71672,     0.71772,     0.71872,     0.71972,\n",
      "           0.72072,     0.72172,     0.72272,     0.72372,     0.72472,     0.72573,     0.72673,     0.72773,     0.72873,     0.72973,     0.73073,     0.73173,     0.73273,     0.73373,     0.73473,     0.73574,     0.73674,     0.73774,     0.73874,     0.73974,     0.74074,     0.74174,     0.74274,     0.74374,\n",
      "           0.74474,     0.74575,     0.74675,     0.74775,     0.74875,     0.74975,     0.75075,     0.75175,     0.75275,     0.75375,     0.75475,     0.75576,     0.75676,     0.75776,     0.75876,     0.75976,     0.76076,     0.76176,     0.76276,     0.76376,     0.76476,     0.76577,     0.76677,     0.76777,\n",
      "           0.76877,     0.76977,     0.77077,     0.77177,     0.77277,     0.77377,     0.77477,     0.77578,     0.77678,     0.77778,     0.77878,     0.77978,     0.78078,     0.78178,     0.78278,     0.78378,     0.78478,     0.78579,     0.78679,     0.78779,     0.78879,     0.78979,     0.79079,     0.79179,\n",
      "           0.79279,     0.79379,     0.79479,      0.7958,      0.7968,      0.7978,      0.7988,      0.7998,      0.8008,      0.8018,      0.8028,      0.8038,      0.8048,     0.80581,     0.80681,     0.80781,     0.80881,     0.80981,     0.81081,     0.81181,     0.81281,     0.81381,     0.81481,     0.81582,\n",
      "           0.81682,     0.81782,     0.81882,     0.81982,     0.82082,     0.82182,     0.82282,     0.82382,     0.82482,     0.82583,     0.82683,     0.82783,     0.82883,     0.82983,     0.83083,     0.83183,     0.83283,     0.83383,     0.83483,     0.83584,     0.83684,     0.83784,     0.83884,     0.83984,\n",
      "           0.84084,     0.84184,     0.84284,     0.84384,     0.84484,     0.84585,     0.84685,     0.84785,     0.84885,     0.84985,     0.85085,     0.85185,     0.85285,     0.85385,     0.85485,     0.85586,     0.85686,     0.85786,     0.85886,     0.85986,     0.86086,     0.86186,     0.86286,     0.86386,\n",
      "           0.86486,     0.86587,     0.86687,     0.86787,     0.86887,     0.86987,     0.87087,     0.87187,     0.87287,     0.87387,     0.87487,     0.87588,     0.87688,     0.87788,     0.87888,     0.87988,     0.88088,     0.88188,     0.88288,     0.88388,     0.88488,     0.88589,     0.88689,     0.88789,\n",
      "           0.88889,     0.88989,     0.89089,     0.89189,     0.89289,     0.89389,     0.89489,      0.8959,      0.8969,      0.8979,      0.8989,      0.8999,      0.9009,      0.9019,      0.9029,      0.9039,      0.9049,     0.90591,     0.90691,     0.90791,     0.90891,     0.90991,     0.91091,     0.91191,\n",
      "           0.91291,     0.91391,     0.91491,     0.91592,     0.91692,     0.91792,     0.91892,     0.91992,     0.92092,     0.92192,     0.92292,     0.92392,     0.92492,     0.92593,     0.92693,     0.92793,     0.92893,     0.92993,     0.93093,     0.93193,     0.93293,     0.93393,     0.93493,     0.93594,\n",
      "           0.93694,     0.93794,     0.93894,     0.93994,     0.94094,     0.94194,     0.94294,     0.94394,     0.94494,     0.94595,     0.94695,     0.94795,     0.94895,     0.94995,     0.95095,     0.95195,     0.95295,     0.95395,     0.95495,     0.95596,     0.95696,     0.95796,     0.95896,     0.95996,\n",
      "           0.96096,     0.96196,     0.96296,     0.96396,     0.96496,     0.96597,     0.96697,     0.96797,     0.96897,     0.96997,     0.97097,     0.97197,     0.97297,     0.97397,     0.97497,     0.97598,     0.97698,     0.97798,     0.97898,     0.97998,     0.98098,     0.98198,     0.98298,     0.98398,\n",
      "           0.98498,     0.98599,     0.98699,     0.98799,     0.98899,     0.98999,     0.99099,     0.99199,     0.99299,     0.99399,     0.99499,       0.996,       0.997,       0.998,       0.999,           1]), array([[          1,           1,           1,           1,           1,           1,           1,           1,           1,           1,           1,           1,           1,           1,     0.99738,     0.99447,     0.99156,     0.99115,     0.99115,     0.99115,     0.99115,     0.99115,     0.99115,\n",
      "            0.99115,     0.99115,     0.99115,     0.99115,     0.99115,     0.99115,     0.99115,     0.99115,     0.99115,     0.99115,     0.99115,     0.99115,     0.99115,     0.99115,     0.99115,     0.99115,     0.99115,     0.99115,     0.99115,     0.99115,     0.99115,     0.99115,     0.99115,\n",
      "            0.99115,     0.99115,     0.99115,     0.99115,     0.99115,     0.99115,     0.99115,     0.99115,     0.99115,     0.99115,     0.99115,     0.99115,     0.99115,     0.99115,     0.99115,     0.99115,     0.99115,     0.99115,     0.99115,     0.99115,     0.99115,     0.99115,     0.99115,\n",
      "            0.99115,     0.99115,     0.99115,     0.99115,     0.99115,     0.99115,     0.99115,     0.99115,     0.99115,     0.99115,     0.99115,     0.99115,     0.99115,     0.99115,     0.99115,     0.99115,     0.99115,     0.99115,     0.99115,     0.99115,     0.99115,     0.99115,     0.99115,\n",
      "            0.99115,     0.99115,     0.99115,     0.99115,     0.99115,     0.99115,     0.99115,     0.99115,     0.99115,     0.99115,     0.99115,     0.99115,     0.99115,     0.99115,     0.99115,     0.99115,     0.99115,     0.99115,     0.99115,     0.99115,     0.99115,     0.99115,     0.99115,\n",
      "            0.99115,     0.99115,     0.99115,     0.99115,     0.99115,     0.99115,     0.99115,     0.99115,     0.99115,     0.99115,     0.99115,     0.99115,     0.99115,     0.99115,     0.99115,     0.99115,     0.99115,     0.99115,     0.99115,     0.99115,     0.99115,     0.99115,     0.99115,\n",
      "            0.99115,     0.99115,     0.99115,     0.99115,     0.99115,     0.99115,     0.99115,     0.99115,     0.99115,     0.99115,     0.99115,     0.99115,     0.99115,     0.99115,     0.99115,     0.99115,     0.99115,     0.99115,     0.99115,     0.99115,     0.99115,     0.99115,     0.99115,\n",
      "            0.99115,     0.99115,     0.99115,     0.99115,     0.99115,     0.99115,     0.99115,     0.99115,     0.99115,     0.99115,     0.99115,     0.99115,     0.99115,     0.99115,     0.99115,     0.99115,     0.99115,     0.99115,     0.99115,     0.99115,     0.99115,     0.99115,     0.99115,\n",
      "            0.99115,     0.99115,     0.99115,     0.99115,     0.99115,     0.99115,     0.99115,     0.99115,     0.99115,     0.99115,     0.99115,     0.99115,     0.99115,     0.99115,     0.99115,     0.99115,     0.99115,     0.99115,     0.99115,     0.99115,     0.99115,     0.99115,     0.99115,\n",
      "            0.99115,     0.99115,     0.99115,     0.99115,     0.99115,     0.99115,     0.99115,     0.99115,     0.99115,     0.99115,     0.99115,     0.99115,     0.99115,     0.99115,     0.99115,     0.99115,     0.99115,     0.99115,     0.99115,     0.99115,     0.99115,     0.99115,     0.99115,\n",
      "            0.99115,     0.99115,     0.99115,     0.99115,     0.99115,     0.99115,     0.99115,     0.99115,     0.99115,     0.99115,     0.99115,     0.99115,     0.99115,     0.99115,     0.99115,     0.99115,     0.99115,     0.99115,     0.99115,     0.99115,     0.99115,     0.99115,     0.99115,\n",
      "            0.99115,     0.99115,     0.99115,     0.99115,     0.99115,     0.99115,     0.99115,     0.99115,     0.99115,     0.99115,     0.99115,     0.99115,     0.99115,     0.99115,     0.99115,     0.99115,     0.99115,     0.99115,     0.99115,     0.99115,     0.99115,     0.99115,     0.99115,\n",
      "            0.99115,     0.99115,     0.99115,     0.99115,     0.99115,     0.99115,     0.99115,     0.99115,     0.99115,     0.99115,     0.99115,     0.99115,     0.99115,     0.99115,     0.99115,     0.99115,     0.99115,     0.99115,     0.99115,     0.99115,     0.99115,     0.99115,     0.99115,\n",
      "            0.99115,     0.99115,     0.99115,     0.99115,     0.99115,     0.99115,     0.99115,     0.99115,     0.99115,     0.99115,     0.99115,     0.99112,     0.99109,     0.99106,     0.99103,       0.991,     0.99097,     0.99093,      0.9909,     0.99087,     0.99084,     0.99081,     0.99078,\n",
      "            0.99075,     0.99072,     0.99069,     0.99065,     0.99062,     0.99059,     0.99056,     0.99053,      0.9905,     0.99047,     0.99044,     0.99041,     0.99037,     0.99034,     0.99031,     0.99028,     0.99025,     0.99022,     0.99019,     0.99016,     0.99013,      0.9901,     0.99006,\n",
      "            0.99003,        0.99,     0.98997,     0.98994,     0.98991,     0.98988,     0.98985,     0.98982,     0.98978,     0.98975,     0.98972,     0.98969,     0.98966,     0.98963,      0.9896,     0.98957,     0.98954,     0.98951,     0.98947,     0.98944,     0.98941,     0.98938,     0.98935,\n",
      "            0.98932,     0.98929,     0.98926,     0.98923,     0.98919,     0.98916,     0.98913,      0.9891,     0.98907,     0.98904,     0.98901,     0.98898,     0.98895,     0.98891,     0.98888,     0.98885,     0.98882,     0.98879,     0.98876,     0.98873,      0.9887,     0.98867,     0.98864,\n",
      "             0.9886,     0.98857,     0.98854,     0.98851,     0.98848,     0.98845,     0.98842,     0.98839,     0.98836,     0.98832,     0.98829,     0.98826,     0.98823,      0.9882,     0.98817,     0.98814,     0.98811,     0.98808,     0.98804,     0.98801,     0.98798,     0.98795,     0.98792,\n",
      "            0.98789,     0.98786,     0.98783,      0.9878,     0.98777,     0.98773,      0.9877,     0.98767,     0.98764,     0.98761,     0.98758,     0.98755,     0.98752,     0.98749,     0.98745,     0.98742,     0.98739,     0.98736,     0.98733,      0.9873,     0.98727,     0.98724,     0.98721,\n",
      "            0.98718,     0.98714,     0.98711,     0.98708,     0.98705,     0.98702,     0.98699,     0.98696,     0.98693,      0.9869,     0.98686,     0.98683,      0.9868,     0.98677,     0.98674,     0.98671,     0.98668,     0.98665,     0.98662,     0.98658,     0.98655,     0.98652,     0.98649,\n",
      "            0.98646,     0.98643,      0.9864,     0.98637,     0.98634,     0.98631,     0.98627,     0.98624,     0.98621,     0.98618,     0.98615,     0.98612,     0.98609,     0.98606,     0.98603,     0.98599,     0.98596,     0.98593,      0.9859,     0.98587,     0.98584,     0.98581,     0.98578,\n",
      "            0.98575,     0.98571,     0.98568,     0.98565,     0.98562,     0.98559,     0.98556,     0.98553,      0.9855,     0.98547,     0.98544,      0.9854,     0.98537,     0.98534,     0.98531,     0.98528,     0.98525,     0.98522,     0.98519,     0.98516,     0.98512,     0.98509,     0.98506,\n",
      "            0.98503,       0.985,     0.98497,     0.98494,     0.98491,     0.98488,     0.98485,     0.98481,     0.98478,     0.98475,     0.98472,     0.98469,     0.98466,     0.98463,      0.9846,     0.98457,     0.98453,      0.9845,     0.98447,     0.98444,     0.98441,     0.98438,     0.98435,\n",
      "            0.98432,     0.98429,     0.98425,     0.98422,     0.98419,     0.98416,     0.98413,      0.9841,     0.98407,     0.98404,     0.98401,     0.98398,     0.98394,     0.98391,     0.98388,     0.98385,     0.98382,     0.98379,     0.98376,     0.98373,      0.9837,     0.98366,     0.98363,\n",
      "             0.9836,     0.98357,     0.98354,     0.98351,     0.98348,     0.98345,     0.98342,     0.98339,     0.98335,     0.98332,     0.98329,     0.98326,     0.98323,      0.9832,     0.98317,     0.98314,     0.98311,     0.98307,     0.98304,     0.98301,     0.98298,     0.98295,     0.98292,\n",
      "            0.98289,     0.98286,     0.98283,     0.98279,     0.98276,     0.98273,      0.9827,     0.98267,     0.98264,     0.98261,     0.98258,     0.98255,     0.98252,     0.98248,     0.98245,     0.98242,     0.98239,     0.98236,     0.98233,      0.9823,      0.9823,      0.9823,      0.9823,\n",
      "             0.9823,      0.9823,      0.9823,      0.9823,      0.9823,      0.9823,      0.9823,      0.9823,      0.9823,      0.9823,      0.9823,      0.9823,      0.9823,      0.9823,      0.9823,      0.9823,      0.9823,      0.9823,      0.9823,      0.9823,      0.9823,      0.9823,      0.9823,\n",
      "             0.9823,      0.9823,      0.9823,      0.9823,      0.9823,      0.9823,      0.9823,      0.9823,      0.9823,      0.9823,      0.9823,      0.9823,      0.9823,      0.9823,      0.9823,      0.9823,      0.9823,      0.9823,      0.9823,      0.9823,      0.9823,      0.9823,      0.9823,\n",
      "             0.9823,      0.9823,      0.9823,      0.9823,      0.9823,      0.9823,      0.9823,      0.9823,      0.9823,      0.9823,      0.9823,      0.9823,      0.9823,      0.9823,      0.9823,      0.9823,      0.9823,      0.9823,      0.9823,      0.9823,      0.9823,      0.9823,      0.9823,\n",
      "             0.9823,      0.9823,      0.9823,      0.9823,      0.9823,      0.9823,      0.9823,      0.9823,      0.9823,      0.9823,      0.9823,      0.9823,      0.9823,      0.9823,      0.9823,      0.9823,      0.9823,      0.9823,      0.9823,      0.9823,      0.9823,      0.9823,      0.9823,\n",
      "             0.9823,      0.9823,      0.9823,      0.9823,      0.9823,      0.9823,      0.9823,      0.9823,      0.9823,      0.9823,      0.9823,      0.9823,      0.9823,      0.9823,      0.9823,      0.9823,      0.9823,      0.9823,      0.9823,      0.9823,      0.9823,      0.9823,      0.9823,\n",
      "             0.9823,      0.9823,      0.9823,      0.9823,     0.98227,      0.9822,     0.98213,     0.98206,     0.98198,     0.98191,     0.98184,     0.98177,     0.98169,     0.98162,     0.98155,     0.98148,      0.9814,     0.98133,     0.98126,     0.98119,     0.98111,     0.98104,     0.98097,\n",
      "             0.9809,     0.98082,     0.98075,     0.98068,     0.98061,     0.98053,     0.98046,     0.98039,     0.98032,     0.98024,     0.98017,      0.9801,     0.98002,     0.97995,     0.97988,     0.97981,     0.97973,     0.97966,     0.97959,     0.97952,     0.97944,     0.97937,      0.9793,\n",
      "            0.97923,     0.97915,     0.97908,     0.97901,     0.97894,     0.97886,     0.97879,     0.97872,     0.97865,     0.97857,      0.9785,     0.97843,     0.97836,     0.97828,     0.97821,     0.97814,     0.97807,     0.97799,     0.97792,     0.97785,     0.97778,      0.9777,     0.97763,\n",
      "            0.97756,     0.97749,     0.97741,     0.97734,     0.97727,      0.9772,     0.97712,     0.97705,     0.97698,     0.97691,     0.97683,     0.97676,     0.97669,     0.97662,     0.97654,     0.97647,      0.9764,     0.97633,     0.97625,     0.97618,     0.97611,     0.97604,     0.97596,\n",
      "            0.97589,     0.97582,     0.97575,     0.97567,      0.9756,     0.97553,     0.97546,     0.97538,     0.97531,     0.97524,     0.97517,     0.97509,     0.97502,     0.97495,     0.97488,      0.9748,     0.97473,     0.97466,     0.97459,     0.97451,     0.97444,     0.97437,      0.9743,\n",
      "            0.97422,     0.97415,     0.97408,     0.97401,     0.97393,     0.97386,     0.97379,     0.97372,     0.97364,     0.97357,      0.9735,     0.97288,     0.97115,     0.96943,      0.9677,     0.96597,      0.9645,     0.96398,     0.96347,     0.96296,     0.96245,     0.96194,     0.96142,\n",
      "            0.96091,      0.9604,     0.95989,     0.95938,     0.95886,     0.95835,     0.95784,     0.95733,     0.95681,      0.9563,     0.95579,     0.94776,     0.93745,     0.93659,     0.93573,     0.93487,     0.93401,     0.93315,     0.93228,     0.93142,     0.93056,      0.9297,     0.91856,\n",
      "            0.89514,     0.88648,      0.8776,     0.87281,     0.86887,       0.866,     0.86388,     0.86176,     0.85964,     0.85685,     0.85314,     0.84928,     0.84107,     0.83734,     0.83381,     0.80999,      0.8019,     0.79706,     0.78253,     0.76249,     0.74744,     0.73184,     0.71576,\n",
      "            0.70527,     0.69953,     0.69066,      0.6764,     0.66685,      0.6516,      0.6271,     0.59376,     0.58903,     0.58494,     0.56911,     0.52146,     0.49503,     0.47565,     0.44908,     0.43546,     0.40598,     0.39896,     0.36963,     0.34491,     0.32391,     0.30975,     0.27854,\n",
      "            0.24613,     0.23985,     0.22195,     0.17929,     0.17406,     0.17089,     0.15025,     0.14197,     0.12543,     0.11285,     0.10156,    0.076416,    0.069355,    0.065004,    0.060667,    0.056361,    0.049521,    0.041793,    0.037977,    0.032992,    0.020587,    0.016904,    0.016055,\n",
      "           0.015206,    0.014357,    0.013508,    0.012659,     0.01181,    0.010961,    0.010112,    0.009263,           0,           0,           0,           0,           0,           0,           0,           0,           0,           0,           0,           0,           0,           0,           0,\n",
      "                  0,           0,           0,           0,           0,           0,           0,           0,           0,           0,           0,           0,           0,           0,           0,           0,           0,           0,           0,           0,           0,           0,           0,\n",
      "                  0,           0,           0,           0,           0,           0,           0,           0,           0,           0,           0]]), 'Confidence', 'Recall']]\n",
      "fitness: 0.9349655282778001\n",
      "keys: ['metrics/precision(B)', 'metrics/recall(B)', 'metrics/mAP50(B)', 'metrics/mAP50-95(B)']\n",
      "maps: array([     0.9283])\n",
      "names: {0: 'SagittalKneeJoint'}\n",
      "plot: True\n",
      "results_dict: {'metrics/precision(B)': 0.9911432403239049, 'metrics/recall(B)': 0.9903438012331008, 'metrics/mAP50(B)': 0.9949115044247788, 'metrics/mAP50-95(B)': 0.9283048642614691, 'fitness': 0.9349655282778001}\n",
      "save_dir: PosixPath('runs/detect/val2')\n",
      "speed: {'preprocess': 2.435356704518199, 'inference': 2.661113627254963, 'loss': 0.0004724657628685236, 'postprocess': 2.009876008378342}\n",
      "task: 'detect'\n"
     ]
    }
   ],
   "source": [
    "# Print the metrics for detailed evaluation\n",
    "print(\"Validation Metrics:\", metrics)"
   ]
  },
  {
   "cell_type": "code",
   "execution_count": null,
   "id": "9a732e33-b909-4a19-93fa-c8e9dc8f84b4",
   "metadata": {},
   "outputs": [],
   "source": []
  }
 ],
 "metadata": {
  "kernelspec": {
   "display_name": "Python 3 (ipykernel)",
   "language": "python",
   "name": "python3"
  },
  "language_info": {
   "codemirror_mode": {
    "name": "ipython",
    "version": 3
   },
   "file_extension": ".py",
   "mimetype": "text/x-python",
   "name": "python",
   "nbconvert_exporter": "python",
   "pygments_lexer": "ipython3",
   "version": "3.12.7"
  }
 },
 "nbformat": 4,
 "nbformat_minor": 5
}
