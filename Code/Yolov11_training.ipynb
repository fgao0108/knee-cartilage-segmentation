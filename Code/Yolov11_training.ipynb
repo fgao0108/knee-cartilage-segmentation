{
 "cells": [
  {
   "cell_type": "code",
   "execution_count": 1,
   "id": "ee1e7d13-439a-4de4-aed0-f2a9367f9b23",
   "metadata": {},
   "outputs": [],
   "source": [
    "from dataclasses import dataclass\n",
    "\n",
    "@dataclass\n",
    "class PreProcessingConfig:\n",
    "    # Folder directories\n",
    "    image_root = \"/data_vault/hexai/OAICartilage/YOLO_DATASET/Image\"\n",
    "    label_root = \"/data_vault/hexai/OAICartilage/YOLO_DATASET/2.5D_Slices_labels\"\n",
    "    out_dir = \"/data_vault/hexai/OAICartilage/YOLO_YOLOv11_Dataset\"\n",
    "    dataset_name = \"2_5D-Slices\"\n",
    "\n",
    "@dataclass\n",
    "class YOLOv11Training:\n",
    "    data_yaml = \"/data_vault/hexai/OAICartilage/YOLO_YOLOv11_Dataset/KneeMRI.yaml\"\n",
    "    yolo_model = \"yolo11n.pt\"  # YOLO model for segmentation\n",
    "    run_name = \"SagittalKneeJoint\"\n",
    "    epochs = 50"
   ]
  },
  {
   "cell_type": "code",
   "execution_count": 2,
   "id": "0eb35f75-5173-4e58-a1f1-4bd8c37a52f9",
   "metadata": {},
   "outputs": [],
   "source": [
    "class KneeLocalizationClasses:\n",
    "    \"\"\"\n",
    "    Map class names for the knee MRI dataset.\n",
    "    \"\"\"\n",
    "    def __init__(self):\n",
    "        self.classes = {\n",
    "            0: \"SagittalKneeJoint\",  # Mapping your class label for the knee joint (adjust as necessary)\n",
    "        }\n",
    "\n",
    "    def map_label(self, view):\n",
    "        \"\"\"\n",
    "        Map the class index to a class label. \n",
    "        This could dynamically change depending on your dataset.\n",
    "        \"\"\"\n",
    "        return self.classes.get(view, \"Unknown\")"
   ]
  },
  {
   "cell_type": "code",
   "execution_count": 3,
   "id": "31be9cb4-f092-414d-97c9-7da42b9f35d4",
   "metadata": {},
   "outputs": [],
   "source": [
    "import os\n",
    "import shutil\n",
    "import yaml\n",
    "from sklearn.model_selection import train_test_split\n",
    "\n",
    "def write_yolo_dataset(dataset, image_root, label_root, out_dir, dataset_type):\n",
    "    \"\"\"\n",
    "    Write dataset to the specified directory for training, validation, or testing.\n",
    "    \"\"\"\n",
    "    dataset_outdir = os.path.join(out_dir, dataset_type)\n",
    "#    dataset_outdir = os.path.join(out_dir, dataset_type)\n",
    "    os.makedirs(os.path.join(dataset_outdir, \"images\"), exist_ok=True)\n",
    "    os.makedirs(os.path.join(dataset_outdir, \"labels\"), exist_ok=True)\n",
    "\n",
    "    for image_path in dataset:\n",
    "        filename = os.path.basename(image_path)\n",
    "        label_filename = filename.replace(\".jpg\", \".txt\")  # Adjust extension if needed\n",
    "        label_path = os.path.join(label_root, label_filename)\n",
    "\n",
    "        # Copy image to the output directory\n",
    "        shutil.copy(image_path, os.path.join(dataset_outdir, \"images\", filename))\n",
    "\n",
    "        # Copy label if it exists\n",
    "        if os.path.exists(label_path):\n",
    "            shutil.copy(label_path, os.path.join(dataset_outdir, \"labels\", label_filename))\n",
    "\n",
    "    return dataset_outdir\n",
    "\n",
    "\n",
    "def build_yolo_dataset(image_root, label_root, out_dir, test_size=0.2):\n",
    "    os.makedirs(out_dir, exist_ok=True)\n",
    "\n",
    "    # List all images\n",
    "    image_files = [os.path.join(subdir, file) for subdir, _, files in os.walk(image_root)\n",
    "                   for file in files if file.endswith(('.jpg', '.jpeg', '.png', '.tif', '.bmp', '.tiff', '.webp'))]\n",
    "\n",
    "    # Split dataset into train, valid, test\n",
    "    train_files, test_files = train_test_split(image_files, test_size=test_size, random_state=42)\n",
    "    valid_files, test_files = train_test_split(test_files, test_size=test_size, random_state=42)\n",
    "\n",
    "    # Write datasets to their respective directories\n",
    "    train_path = write_yolo_dataset(train_files, image_root, label_root, out_dir, dataset_type=\"train\")\n",
    "    valid_path = write_yolo_dataset(valid_files, image_root, label_root, out_dir, dataset_type=\"valid\")\n",
    "    test_path = write_yolo_dataset(test_files, image_root, label_root, out_dir, dataset_type=\"test\")\n",
    "\n",
    "\n",
    "    # Write YOLO YAML file\n",
    "    write_yolo_yaml_file(train_path, valid_path, test_path, out_dir)\n"
   ]
  },
  {
   "cell_type": "code",
   "execution_count": 4,
   "id": "38593696-2558-4992-a3e4-951f7b3c2f88",
   "metadata": {},
   "outputs": [],
   "source": [
    "def write_yolo_yaml_file(train_path, valid_path, test_path, out_dir):\n",
    "    class_labels = KneeLocalizationClasses()\n",
    "    yaml_info = {\n",
    "        \"train\": train_path,\n",
    "        \"val\": valid_path,\n",
    "        \"test\": test_path,\n",
    "        \"nc\": 1,  # Number of classes (1 in your case)\n",
    "        \"names\": [class_labels.map_label(0)]  # Using 0 as the class index for \"SagittalKneeJoint\"\n",
    "    }\n",
    "\n",
    "    with open(f\"{out_dir}/KneeMRI.yaml\", 'w') as f:\n",
    "        yaml.dump(yaml_info, f)\n"
   ]
  },
  {
   "cell_type": "code",
   "execution_count": 5,
   "id": "f4d58198-65e4-4c4d-8833-4a44dd25bea2",
   "metadata": {},
   "outputs": [],
   "source": [
    "from ultralytics import YOLO\n",
    "\n",
    "def get_yolo_model(yolo_model_checkpoint):\n",
    "    \"\"\"\n",
    "    YOLOv11 Checkpoints:\n",
    "    - yolov11n.pt (Nano)\n",
    "    - yolov11s.pt (Small)\n",
    "    - yolov11m.pt (Medium)\n",
    "    - yolov11l.pt (Large)\n",
    "    - yolov11x.pt (Extra Large)\n",
    "    \"\"\"\n",
    "    return YOLO(yolo_model_checkpoint)\n"
   ]
  },
  {
   "cell_type": "code",
   "execution_count": 6,
   "id": "7fd38eb6-dc90-4c78-9d73-ebb23ca43b9a",
   "metadata": {},
   "outputs": [],
   "source": [
    "import torch\n",
    "import os\n",
    "\n",
    "def train_yolo_model(data_yaml, yolo_checkpoint_name, epochs, run_name):\n",
    "    model = get_yolo_model(yolo_checkpoint_name)\n",
    "\n",
    "    if torch.cuda.is_available():\n",
    "        model = model.cuda()\n",
    "\n",
    "    # Check if the YAML file exists\n",
    "    if os.path.exists(data_yaml):\n",
    "        print(\"data.yaml found. Proceeding with training.\")\n",
    "        model.train(data=data_yaml, epochs=epochs, name=run_name)\n",
    "    else:\n",
    "        print(\"data.yaml not found. Please check the path and ensure the file exists.\")\n"
   ]
  },
  {
   "cell_type": "code",
   "execution_count": 7,
   "id": "a4996040-c1d0-4704-bdec-81725057595e",
   "metadata": {},
   "outputs": [],
   "source": [
    "def main(mode):\n",
    "    print(\"Knee MRI Segmentation Entry Point!\")\n",
    "\n",
    "    if mode == \"preprocess\":\n",
    "        config = PreProcessingConfig()\n",
    "        build_yolo_dataset(config.image_root, config.label_root, config.out_dir)\n",
    "        print(\"Preprocessing completed!\")\n",
    "    \n",
    "    elif mode == \"yolo\":\n",
    "        config = YOLOv11Training()\n",
    "        train_yolo_model(config.data_yaml, config.yolo_model, config.epochs, config.run_name)\n",
    "        print(\"Training completed!\")\n"
   ]
  },
  {
   "cell_type": "code",
   "execution_count": null,
   "id": "5ad08196-fa8f-42d4-b445-64f1d5325d2b",
   "metadata": {},
   "outputs": [],
   "source": [
    "if __name__ == \"__main__\":\n",
    "    main(\"preprocess\")  # Run preprocessing"
   ]
  },
  {
   "cell_type": "code",
   "execution_count": null,
   "id": "3d70bd97-428b-4622-ab46-ba186a70fe5b",
   "metadata": {},
   "outputs": [],
   "source": [
    "main(\"yolo\")  # Run YOLO model training"
   ]
  },
  {
   "cell_type": "code",
   "execution_count": null,
   "id": "ab37c18b-8a9a-4552-be85-01a141aca047",
   "metadata": {},
   "outputs": [],
   "source": [
    "from ultralytics import YOLO\n",
    "\n",
    "# Load the trained model\n",
    "model = YOLO('/data_vault/hexai/OAICartilage/runs/detect/SagittalKneeJoint/weights/best.pt')\n",
    "# Evaluate on the validation set\n",
    "metrics = model.val()  # evaluate model performance on the validation set"
   ]
  },
  {
   "cell_type": "code",
   "execution_count": null,
   "id": "4d38bc4e-34bd-4f77-8c01-65280ac289f4",
   "metadata": {},
   "outputs": [],
   "source": [
    "# Evaluate on the test set\n",
    "metrics = model.val(data=\"/data_vault/hexai/OAICartilage/YOLO_YOLOv11_Dataset/KneeMRI.yaml\", split=\"test\") # This will give precision, recall, mAP, and other relevant metrics"
   ]
  },
  {
   "cell_type": "code",
   "execution_count": null,
   "id": "f7cefa17-9fcc-4a6a-bcbe-d1d31dd584c7",
   "metadata": {},
   "outputs": [],
   "source": [
    "# Print the metrics for detailed evaluation\n",
    "print(\"Validation Metrics:\", metrics)"
   ]
  }
 ],
 "metadata": {
  "kernelspec": {
   "display_name": "Python 3 (ipykernel)",
   "language": "python",
   "name": "python3"
  },
  "language_info": {
   "codemirror_mode": {
    "name": "ipython",
    "version": 3
   },
   "file_extension": ".py",
   "mimetype": "text/x-python",
   "name": "python",
   "nbconvert_exporter": "python",
   "pygments_lexer": "ipython3",
   "version": "3.11.7"
  }
 },
 "nbformat": 4,
 "nbformat_minor": 5
}
